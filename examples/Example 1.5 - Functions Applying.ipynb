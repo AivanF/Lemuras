{
 "cells": [
  {
   "cell_type": "markdown",
   "metadata": {},
   "source": [
    "# Apply functions or lambdas to columns"
   ]
  },
  {
   "cell_type": "markdown",
   "metadata": {},
   "source": [
    "Sample table and function:"
   ]
  },
  {
   "cell_type": "code",
   "execution_count": 1,
   "metadata": {},
   "outputs": [
    {
     "data": {
      "text/html": [
       "<b>Table</b> object, title: <b>Sample</b>, 4 columns, 6 rows.<br>\n",
       "<table>\n",
       "<tr><th>type</th><th>size</th><th>weight</th><th>tel</th></tr>\n",
       "<tr><td>A</td><td>1</td><td>12</td><td>+79360360193</td></tr>\n",
       "<tr><td>B</td><td>4</td><td>12</td><td>84505505151</td></tr>\n",
       "<tr><td>A</td><td>3</td><td>10</td><td>+31415926535</td></tr>\n",
       "<tr><td>B</td><td>6</td><td>14</td><td></td></tr>\n",
       "<tr><td>A</td><td>4</td><td>15</td><td>23816326412</td></tr>\n",
       "<tr><td>A</td><td>2</td><td>11</td><td>None</td></tr>\n",
       "</table>"
      ],
      "text/plain": [
       "- Table object, title: \"Sample\", 4 columns, 6 rows.\n",
       "'type' 'size' 'weight' 'tel'\n",
       "'A' 1 12 '+79360360193'\n",
       "'B' 4 12 84505505151\n",
       "'A' 3 10 '+31415926535'\n",
       "'B' 6 14 ''\n",
       "'A' 4 15 '23816326412'\n",
       "'A' 2 11 None"
      ]
     },
     "execution_count": 1,
     "metadata": {},
     "output_type": "execute_result"
    }
   ],
   "source": [
    "from lemuras import Table\n",
    "\n",
    "def process_phone(x, cut=10):\n",
    "    try:\n",
    "        return str(int(x))[-cut:]\n",
    "    except:\n",
    "        return ''\n",
    "\n",
    "cols = ['type', 'size', 'weight', 'tel']\n",
    "rows = [\n",
    "    ['A', 1, 12, '+79360360193'],\n",
    "    ['B', 4, 12, 84505505151],\n",
    "    ['A', 3, 10, '+31415926535'],\n",
    "    ['B', 6, 14, ''],\n",
    "    ['A', 4, 15, '23816326412'],\n",
    "    ['A', 2, 11, None],\n",
    "]\n",
    "\n",
    "df1 = Table(cols, rows, 'Sample')\n",
    "df2 = df1.copy()\n",
    "df2"
   ]
  },
  {
   "cell_type": "markdown",
   "metadata": {},
   "source": [
    "The method `.apply(task, *args, **kwargs)` takes a function or lambda (which takes a single column value), and returns new column (similar to Python's `map` function):"
   ]
  },
  {
   "cell_type": "code",
   "execution_count": 2,
   "metadata": {},
   "outputs": [
    {
     "data": {
      "text/html": [
       "<b>Column</b> object, title: \"tel\" values: ['9360360193', '4505505151', '1415926535', '', '3816326412', '']."
      ],
      "text/plain": [
       "- Column object, title: \"tel\" values: ['9360360193', '4505505151', '1415926535', '', '3816326412', '']."
      ]
     },
     "execution_count": 2,
     "metadata": {},
     "output_type": "execute_result"
    }
   ],
   "source": [
    "df2['tel'].apply(process_phone)"
   ]
  },
  {
   "cell_type": "markdown",
   "metadata": {},
   "source": [
    "To override existing values, you can save new column or specify `separate` argument (the preferred way):"
   ]
  },
  {
   "cell_type": "code",
   "execution_count": 3,
   "metadata": {},
   "outputs": [
    {
     "data": {
      "text/html": [
       "<b>Table</b> object, title: <b>Sample</b>, 4 columns, 6 rows.<br>\n",
       "<table>\n",
       "<tr><th>type</th><th>size</th><th>weight</th><th>tel</th></tr>\n",
       "<tr><td>A</td><td>2</td><td>12</td><td>9360360193</td></tr>\n",
       "<tr><td>B</td><td>8</td><td>12</td><td>4505505151</td></tr>\n",
       "<tr><td>A</td><td>6</td><td>10</td><td>1415926535</td></tr>\n",
       "<tr><td>B</td><td>12</td><td>14</td><td></td></tr>\n",
       "<tr><td>A</td><td>8</td><td>15</td><td>3816326412</td></tr>\n",
       "<tr><td>A</td><td>4</td><td>11</td><td></td></tr>\n",
       "</table>"
      ],
      "text/plain": [
       "- Table object, title: \"Sample\", 4 columns, 6 rows.\n",
       "'type' 'size' 'weight' 'tel'\n",
       "'A' 2 12 '9360360193'\n",
       "'B' 8 12 '4505505151'\n",
       "'A' 6 10 '1415926535'\n",
       "'B' 12 14 ''\n",
       "'A' 8 15 '3816326412'\n",
       "'A' 4 11 ''"
      ]
     },
     "execution_count": 3,
     "metadata": {},
     "output_type": "execute_result"
    }
   ],
   "source": [
    "df2['tel'] = df2['tel'].apply(process_phone)\n",
    "df2['size'].apply(lambda x: x*2, separate=False)\n",
    "df2"
   ]
  },
  {
   "cell_type": "markdown",
   "metadata": {},
   "source": [
    "All the other arguments will be passed to the funtion:"
   ]
  },
  {
   "cell_type": "code",
   "execution_count": 4,
   "metadata": {},
   "outputs": [
    {
     "data": {
      "text/html": [
       "<b>Table</b> object, title: <b>Sample</b>, 4 columns, 6 rows.<br>\n",
       "<table>\n",
       "<tr><th>type</th><th>size</th><th>weight</th><th>tel</th></tr>\n",
       "<tr><td>A</td><td>1</td><td>12</td><td>193</td></tr>\n",
       "<tr><td>B</td><td>4</td><td>12</td><td>151</td></tr>\n",
       "<tr><td>A</td><td>3</td><td>10</td><td>535</td></tr>\n",
       "<tr><td>B</td><td>6</td><td>14</td><td></td></tr>\n",
       "<tr><td>A</td><td>4</td><td>15</td><td>412</td></tr>\n",
       "<tr><td>A</td><td>2</td><td>11</td><td></td></tr>\n",
       "</table>"
      ],
      "text/plain": [
       "- Table object, title: \"Sample\", 4 columns, 6 rows.\n",
       "'type' 'size' 'weight' 'tel'\n",
       "'A' 1 12 '193'\n",
       "'B' 4 12 '151'\n",
       "'A' 3 10 '535'\n",
       "'B' 6 14 ''\n",
       "'A' 4 15 '412'\n",
       "'A' 2 11 ''"
      ]
     },
     "execution_count": 4,
     "metadata": {},
     "output_type": "execute_result"
    }
   ],
   "source": [
    "df2 = df1.copy()\n",
    "df2['tel'].apply(process_phone, 3, separate=False)\n",
    "# Or..\n",
    "df2['tel'].apply(process_phone, cut=3, separate=False)\n",
    "df2"
   ]
  },
  {
   "cell_type": "markdown",
   "metadata": {},
   "source": [
    "## Default apply-functions"
   ]
  },
  {
   "cell_type": "markdown",
   "metadata": {},
   "source": [
    "Here is the list of embedded functions:\n",
    "\n",
    "- **`'isnull'`** - `True` if value is `None`, `False` otherwise.\n",
    "\n",
    "- **`'lengths'`** - returns string length of a value.\n",
    "\n",
    "- **`'isin'`** - takes additional argument and checks if a value is in it.\n",
    "\n",
    "- **`'istype'`**, **`'isinstance'`** - takes additional argument and checks if a value is an instance of it.\n",
    "\n",
    "Usage example:"
   ]
  },
  {
   "cell_type": "code",
   "execution_count": 5,
   "metadata": {},
   "outputs": [
    {
     "data": {
      "text/html": [
       "<b>Table</b> object, title: <b>Sample</b>, 8 columns, 6 rows.<br>\n",
       "<table>\n",
       "<tr><th>type</th><th>size</th><th>weight</th><th>tel</th><th>weight_10or15</th><th>tel_is_str</th><th>tel_len</th><th>tel_null</th></tr>\n",
       "<tr><td>A</td><td>1</td><td>12</td><td>+79360360193</td><td>False</td><td>True</td><td>12</td><td>False</td></tr>\n",
       "<tr><td>B</td><td>4</td><td>12</td><td>84505505151</td><td>False</td><td>False</td><td>11</td><td>False</td></tr>\n",
       "<tr><td>A</td><td>3</td><td>10</td><td>+31415926535</td><td>True</td><td>True</td><td>12</td><td>False</td></tr>\n",
       "<tr><td>B</td><td>6</td><td>14</td><td></td><td>False</td><td>True</td><td>0</td><td>False</td></tr>\n",
       "<tr><td>A</td><td>4</td><td>15</td><td>23816326412</td><td>True</td><td>True</td><td>11</td><td>False</td></tr>\n",
       "<tr><td>A</td><td>2</td><td>11</td><td>None</td><td>False</td><td>False</td><td>4</td><td>True</td></tr>\n",
       "</table>"
      ],
      "text/plain": [
       "- Table object, title: \"Sample\", 8 columns, 6 rows.\n",
       "'type' 'size' 'weight' 'tel' 'weight_10or15' 'tel_is_str' 'tel_len' 'tel_null'\n",
       "'A' 1 12 '+79360360193' False True 12 False\n",
       "'B' 4 12 84505505151 False False 11 False\n",
       "'A' 3 10 '+31415926535' True True 12 False\n",
       "'B' 6 14 '' False True 0 False\n",
       "'A' 4 15 '23816326412' True True 11 False\n",
       "'A' 2 11 None False False 4 True"
      ]
     },
     "execution_count": 5,
     "metadata": {},
     "output_type": "execute_result"
    }
   ],
   "source": [
    "df2 = df1.copy()\n",
    "df2['weight_10or15'] = df2['weight'].apply('isin', (10,15))\n",
    "df2['tel_is_str'] = df2['tel'].apply('istype', str)\n",
    "df2['tel_len'] = df2['tel'].apply('lengths')\n",
    "df2['tel_null'] = df2['tel'].apply('isnull')\n",
    "df2"
   ]
  },
  {
   "cell_type": "markdown",
   "metadata": {},
   "source": [
    "## Type functions"
   ]
  },
  {
   "cell_type": "markdown",
   "metadata": {},
   "source": [
    "In addition, there are several function names for type conversion:\n",
    "\n",
    "- **`'str'`** - tries to convert to string.\n",
    "\n",
    "- **`'int'`** - tries to convert to integer number.\n",
    "\n",
    "- **`'float'`** - tries to convert to fractional number.\n",
    "\n",
    "- **`'date'`** - tries to convert to date object (can process many string formats).\n",
    "\n",
    "- **`'datetime'`** - tries to convert to datetime object (can deal with many string formats).\n",
    "\n",
    "All these functions take `default` argument which is by default `0` for int/float and `None` for others. There is one more helpful function to deal with types:\n",
    "\n",
    "- **`'none_to'`** - replaces `None` values with a given one.\n",
    "\n",
    "In contrast to other apply-functions, these ones have `separate=False` by default. An example:"
   ]
  },
  {
   "cell_type": "code",
   "execution_count": 6,
   "metadata": {},
   "outputs": [
    {
     "data": {
      "text/html": [
       "<b>Table</b> object, title: <b>Sample</b>, 4 columns, 6 rows.<br>\n",
       "<table>\n",
       "<tr><th>type</th><th>size</th><th>weight</th><th>tel</th></tr>\n",
       "<tr><td>A</td><td>1</td><td>12</td><td>79360360193</td></tr>\n",
       "<tr><td>B</td><td>4</td><td>12</td><td>84505505151</td></tr>\n",
       "<tr><td>A</td><td>3</td><td>10</td><td>31415926535</td></tr>\n",
       "<tr><td>B</td><td>6</td><td>14</td><td>0</td></tr>\n",
       "<tr><td>A</td><td>4</td><td>15</td><td>23816326412</td></tr>\n",
       "<tr><td>A</td><td>2</td><td>11</td><td>-1</td></tr>\n",
       "</table>"
      ],
      "text/plain": [
       "- Table object, title: \"Sample\", 4 columns, 6 rows.\n",
       "'type' 'size' 'weight' 'tel'\n",
       "'A' 1 12 79360360193\n",
       "'B' 4 12 84505505151\n",
       "'A' 3 10 31415926535\n",
       "'B' 6 14 0\n",
       "'A' 4 15 23816326412\n",
       "'A' 2 11 -1"
      ]
     },
     "execution_count": 6,
     "metadata": {},
     "output_type": "execute_result"
    }
   ],
   "source": [
    "# Clean sample data\n",
    "df2 = df1.copy()\n",
    "df2['tel'].apply('none_to', -1)\n",
    "df2['tel'].apply('int', default=0)\n",
    "df2"
   ]
  },
  {
   "cell_type": "markdown",
   "metadata": {},
   "source": [
    "# Aggregate columns"
   ]
  },
  {
   "cell_type": "markdown",
   "metadata": {},
   "source": [
    "You can also aggregate columns – i.e calculate a single value from a column (while applying functions create columns from columns), it's useful for statistics. The following aggregation functions are embedded and by available strings:\n",
    "\n",
    "- **`'count'`** - elements count, group size.\n",
    "\n",
    "- **`'min'`** - the lowest value.\n",
    "\n",
    "- **`'max'`** - the highest value.\n",
    "\n",
    "- **`'sum'`** - elements sum.\n",
    "\n",
    "- **`'avg'`**, **`'mean'`** - average value.\n",
    "\n",
    "- **`'mode'`** - the most common value.\n",
    "\n",
    "- **`'middle'`**, **`'median'`** - a number where half of the numbers are lower and half the numbers are higher.\n",
    "\n",
    "- **`'q1'`** - 1st quantile, or 25% percentile.\n",
    "\n",
    "- **`'q2'`** - 2nd quantile, or 50% percentile (the same as **median**).\n",
    "\n",
    "- **`'q3'`** - 3d quantile, or 75% percentile.\n",
    "\n",
    "- **`'std'`** - standard deviation.\n",
    "\n",
    "- **`'first'`** - the first value of column (it's handy when you don't need a specific element, but just an example).\n",
    "\n",
    "- **`'last'`** - the last value of column (similar reasons).\n",
    "\n",
    "- **`'get'`** - returns any specific value of column, just pass an index as an argument.\n",
    "\n",
    "- **`'nunique'`** - number of unique values in the column.\n",
    "\n",
    "- **`'nones'`**, **`'nulls'`** - number of None values in the column.\n",
    "\n",
    "And of course you can create your own functions or lambdas. For aggregation, method `.calc(task, *args, **kwargs)` is used. It takes a function or lambda which takes an iterable with all the column values."
   ]
  },
  {
   "cell_type": "code",
   "execution_count": 7,
   "metadata": {},
   "outputs": [
    {
     "name": "stdout",
     "output_type": "stream",
     "text": [
      "6 5\n",
      "79360360193 -1\n"
     ]
    }
   ],
   "source": [
    "print('{} {}'.format(df2['weight'].calc('count'), df2['weight'].calc('nunique')))\n",
    "print('{} {}'.format(df2['tel'].calc('first'), df2['tel'].calc('last')))"
   ]
  },
  {
   "cell_type": "markdown",
   "metadata": {},
   "source": [
    "# Code simplification"
   ]
  },
  {
   "cell_type": "markdown",
   "metadata": {},
   "source": [
    "All theese built-in functions can be used as methods, without `.apply` or `.calc`. The arguments works too. And both columns and tables support this behaviour:"
   ]
  },
  {
   "cell_type": "code",
   "execution_count": 8,
   "metadata": {},
   "outputs": [
    {
     "data": {
      "text/html": [
       "<b>Table</b> object, title: <b>Sample</b>, 4 columns, 6 rows.<br>\n",
       "<table>\n",
       "<tr><th>type</th><th>size</th><th>weight</th><th>tel</th></tr>\n",
       "<tr><td>A</td><td>1</td><td>12</td><td>+79360360193</td></tr>\n",
       "<tr><td>B</td><td>4</td><td>12</td><td>84505505151</td></tr>\n",
       "<tr><td>A</td><td>3</td><td>10</td><td>+31415926535</td></tr>\n",
       "<tr><td>B</td><td>6</td><td>14</td><td></td></tr>\n",
       "<tr><td>A</td><td>4</td><td>15</td><td>23816326412</td></tr>\n",
       "<tr><td>A</td><td>2</td><td>11</td><td>None</td></tr>\n",
       "</table>"
      ],
      "text/plain": [
       "- Table object, title: \"Sample\", 4 columns, 6 rows.\n",
       "'type' 'size' 'weight' 'tel'\n",
       "'A' 1 12 '+79360360193'\n",
       "'B' 4 12 84505505151\n",
       "'A' 3 10 '+31415926535'\n",
       "'B' 6 14 ''\n",
       "'A' 4 15 '23816326412'\n",
       "'A' 2 11 None"
      ]
     },
     "execution_count": 8,
     "metadata": {},
     "output_type": "execute_result"
    }
   ],
   "source": [
    "# Clean sample data\n",
    "df2 = df1.copy()\n",
    "df2"
   ]
  },
  {
   "cell_type": "markdown",
   "metadata": {},
   "source": [
    "---\n",
    "**Column type conversion**"
   ]
  },
  {
   "cell_type": "code",
   "execution_count": 9,
   "metadata": {},
   "outputs": [
    {
     "data": {
      "text/html": [
       "<b>Column</b> object, title: \"tel\" values: [79360360193, 84505505151, 31415926535, 0, 23816326412, 0]."
      ],
      "text/plain": [
       "- Column object, title: \"tel\" values: [79360360193, 84505505151, 31415926535, 0, 23816326412, 0]."
      ]
     },
     "execution_count": 9,
     "metadata": {},
     "output_type": "execute_result"
    }
   ],
   "source": [
    "df2['tel'].int()"
   ]
  },
  {
   "cell_type": "markdown",
   "metadata": {},
   "source": [
    "**Column applying**  "
   ]
  },
  {
   "cell_type": "code",
   "execution_count": 10,
   "metadata": {},
   "outputs": [
    {
     "data": {
      "text/html": [
       "<b>Table</b> object, title: <b>Sample</b>, 4 columns, 6 rows.<br>\n",
       "<table>\n",
       "<tr><th>type</th><th>size</th><th>weight</th><th>tel</th></tr>\n",
       "<tr><td>A</td><td>False</td><td>12</td><td>79360360193</td></tr>\n",
       "<tr><td>B</td><td>True</td><td>12</td><td>84505505151</td></tr>\n",
       "<tr><td>A</td><td>False</td><td>10</td><td>31415926535</td></tr>\n",
       "<tr><td>B</td><td>False</td><td>14</td><td>0</td></tr>\n",
       "<tr><td>A</td><td>True</td><td>15</td><td>23816326412</td></tr>\n",
       "<tr><td>A</td><td>True</td><td>11</td><td>0</td></tr>\n",
       "</table>"
      ],
      "text/plain": [
       "- Table object, title: \"Sample\", 4 columns, 6 rows.\n",
       "'type' 'size' 'weight' 'tel'\n",
       "'A' False 12 79360360193\n",
       "'B' True 12 84505505151\n",
       "'A' False 10 31415926535\n",
       "'B' False 14 0\n",
       "'A' True 15 23816326412\n",
       "'A' True 11 0"
      ]
     },
     "execution_count": 10,
     "metadata": {},
     "output_type": "execute_result"
    }
   ],
   "source": [
    "df2['size'].isin((2,4), separate=False)\n",
    "df2"
   ]
  },
  {
   "cell_type": "markdown",
   "metadata": {},
   "source": [
    "---\n",
    "**Column aggregation**"
   ]
  },
  {
   "cell_type": "code",
   "execution_count": 11,
   "metadata": {},
   "outputs": [
    {
     "name": "stdout",
     "output_type": "stream",
     "text": [
      "Weight is about 12.3 ± 1.7\n"
     ]
    }
   ],
   "source": [
    "print('Weight is about {:.1f} ± {:.1f}'.format(df2['weight'].avg(), df2['weight'].std()))"
   ]
  },
  {
   "cell_type": "markdown",
   "metadata": {},
   "source": [
    "---\n",
    "### Tables"
   ]
  },
  {
   "cell_type": "code",
   "execution_count": 12,
   "metadata": {},
   "outputs": [
    {
     "data": {
      "text/html": [
       "<b>Table</b> object, title: <b>Sample</b>, 4 columns, 6 rows.<br>\n",
       "<table>\n",
       "<tr><th>type</th><th>size</th><th>weight</th><th>tel</th></tr>\n",
       "<tr><td>A</td><td>1</td><td>12</td><td>+79360360193</td></tr>\n",
       "<tr><td>B</td><td>4</td><td>12</td><td>84505505151</td></tr>\n",
       "<tr><td>A</td><td>3</td><td>10</td><td>+31415926535</td></tr>\n",
       "<tr><td>B</td><td>6</td><td>14</td><td></td></tr>\n",
       "<tr><td>A</td><td>4</td><td>15</td><td>23816326412</td></tr>\n",
       "<tr><td>A</td><td>2</td><td>11</td><td>None</td></tr>\n",
       "</table>"
      ],
      "text/plain": [
       "- Table object, title: \"Sample\", 4 columns, 6 rows.\n",
       "'type' 'size' 'weight' 'tel'\n",
       "'A' 1 12 '+79360360193'\n",
       "'B' 4 12 84505505151\n",
       "'A' 3 10 '+31415926535'\n",
       "'B' 6 14 ''\n",
       "'A' 4 15 '23816326412'\n",
       "'A' 2 11 None"
      ]
     },
     "execution_count": 12,
     "metadata": {},
     "output_type": "execute_result"
    }
   ],
   "source": [
    "# Clean sample data\n",
    "df2 = df1.copy()\n",
    "df2"
   ]
  },
  {
   "cell_type": "markdown",
   "metadata": {},
   "source": [
    "---\n",
    "**Table aggregation**  \n",
    "It always creates new Table object"
   ]
  },
  {
   "cell_type": "code",
   "execution_count": 13,
   "metadata": {},
   "outputs": [
    {
     "data": {
      "text/html": [
       "<b>Table</b> object, title: <b>Sample.first()</b>, 2 columns, 4 rows.<br>\n",
       "<table>\n",
       "<tr><th>Column</th><th>first</th></tr>\n",
       "<tr><td>type</td><td>A</td></tr>\n",
       "<tr><td>size</td><td>1</td></tr>\n",
       "<tr><td>weight</td><td>12</td></tr>\n",
       "<tr><td>tel</td><td>+79360360193</td></tr>\n",
       "</table>"
      ],
      "text/plain": [
       "- Table object, title: \"Sample.first()\", 2 columns, 4 rows.\n",
       "'Column' 'first'\n",
       "'type' 'A'\n",
       "'size' 1\n",
       "'weight' 12\n",
       "'tel' '+79360360193'"
      ]
     },
     "execution_count": 13,
     "metadata": {},
     "output_type": "execute_result"
    }
   ],
   "source": [
    "df2.first()"
   ]
  },
  {
   "cell_type": "markdown",
   "metadata": {},
   "source": [
    "---\n",
    "**Table type conversion**  \n",
    "It always changes original table"
   ]
  },
  {
   "cell_type": "code",
   "execution_count": 14,
   "metadata": {},
   "outputs": [
    {
     "data": {
      "text/html": [
       "<b>Table</b> object, title: <b>Sample</b>, 4 columns, 6 rows.<br>\n",
       "<table>\n",
       "<tr><th>type</th><th>size</th><th>weight</th><th>tel</th></tr>\n",
       "<tr><td>0</td><td>1</td><td>12</td><td>79360360193</td></tr>\n",
       "<tr><td>0</td><td>4</td><td>12</td><td>84505505151</td></tr>\n",
       "<tr><td>0</td><td>3</td><td>10</td><td>31415926535</td></tr>\n",
       "<tr><td>0</td><td>6</td><td>14</td><td>0</td></tr>\n",
       "<tr><td>0</td><td>4</td><td>15</td><td>23816326412</td></tr>\n",
       "<tr><td>0</td><td>2</td><td>11</td><td>0</td></tr>\n",
       "</table>"
      ],
      "text/plain": [
       "- Table object, title: \"Sample\", 4 columns, 6 rows.\n",
       "'type' 'size' 'weight' 'tel'\n",
       "0 1 12 79360360193\n",
       "0 4 12 84505505151\n",
       "0 3 10 31415926535\n",
       "0 6 14 0\n",
       "0 4 15 23816326412\n",
       "0 2 11 0"
      ]
     },
     "execution_count": 14,
     "metadata": {},
     "output_type": "execute_result"
    }
   ],
   "source": [
    "df2.int()\n",
    "df2"
   ]
  },
  {
   "cell_type": "markdown",
   "metadata": {},
   "source": [
    "---\n",
    "**Table applying**  \n",
    "It always creates new Table object"
   ]
  },
  {
   "cell_type": "code",
   "execution_count": 15,
   "metadata": {},
   "outputs": [
    {
     "data": {
      "text/html": [
       "<b>Table</b> object, title: <b>Sample.isin()</b>, 4 columns, 6 rows.<br>\n",
       "<table>\n",
       "<tr><th>type</th><th>size</th><th>weight</th><th>tel</th></tr>\n",
       "<tr><td>False</td><td>False</td><td>True</td><td>False</td></tr>\n",
       "<tr><td>False</td><td>True</td><td>True</td><td>False</td></tr>\n",
       "<tr><td>False</td><td>True</td><td>False</td><td>False</td></tr>\n",
       "<tr><td>False</td><td>False</td><td>False</td><td>False</td></tr>\n",
       "<tr><td>False</td><td>True</td><td>False</td><td>False</td></tr>\n",
       "<tr><td>False</td><td>True</td><td>False</td><td>False</td></tr>\n",
       "</table>"
      ],
      "text/plain": [
       "- Table object, title: \"Sample.isin()\", 4 columns, 6 rows.\n",
       "'type' 'size' 'weight' 'tel'\n",
       "False False True False\n",
       "False True True False\n",
       "False True False False\n",
       "False False False False\n",
       "False True False False\n",
       "False True False False"
      ]
     },
     "execution_count": 15,
     "metadata": {},
     "output_type": "execute_result"
    }
   ],
   "source": [
    "df2.isin((2,3,4,12))"
   ]
  },
  {
   "cell_type": "markdown",
   "metadata": {},
   "source": [
    "---\n",
    "# Applying functions to table rows\n",
    "\n",
    "Sometimes you need to build new column using entire row, not just a single column. To do this, you can use `Table.calc(task, *args, **kwargs)` method that takes a function (which takes a row object and must return a value that will be used to create new column). Other `calc` arguments are just passed to your function. It may sound complicated, but there is nothing difficult:"
   ]
  },
  {
   "cell_type": "code",
   "execution_count": 16,
   "metadata": {},
   "outputs": [
    {
     "data": {
      "text/html": [
       "<b>Table</b> object, title: <b>Sample</b>, 4 columns, 6 rows.<br>\n",
       "<table>\n",
       "<tr><th>type</th><th>size</th><th>weight</th><th>tel</th></tr>\n",
       "<tr><td>A</td><td>1</td><td>12</td><td>+79360360193</td></tr>\n",
       "<tr><td>B</td><td>4</td><td>12</td><td>84505505151</td></tr>\n",
       "<tr><td>A</td><td>3</td><td>10</td><td>+31415926535</td></tr>\n",
       "<tr><td>B</td><td>6</td><td>14</td><td></td></tr>\n",
       "<tr><td>A</td><td>4</td><td>15</td><td>23816326412</td></tr>\n",
       "<tr><td>A</td><td>2</td><td>11</td><td>None</td></tr>\n",
       "</table>"
      ],
      "text/plain": [
       "- Table object, title: \"Sample\", 4 columns, 6 rows.\n",
       "'type' 'size' 'weight' 'tel'\n",
       "'A' 1 12 '+79360360193'\n",
       "'B' 4 12 84505505151\n",
       "'A' 3 10 '+31415926535'\n",
       "'B' 6 14 ''\n",
       "'A' 4 15 '23816326412'\n",
       "'A' 2 11 None"
      ]
     },
     "execution_count": 16,
     "metadata": {},
     "output_type": "execute_result"
    }
   ],
   "source": [
    "# Clean sample data\n",
    "df2 = df1.copy()\n",
    "df2"
   ]
  },
  {
   "cell_type": "markdown",
   "metadata": {},
   "source": [
    "Custom function:"
   ]
  },
  {
   "cell_type": "code",
   "execution_count": 17,
   "metadata": {},
   "outputs": [],
   "source": [
    "def process(row, special):\n",
    "    if row['type'] == special:\n",
    "        return row['size'] + row['weight']\n",
    "    else:\n",
    "        return row['size'] * row['weight']"
   ]
  },
  {
   "cell_type": "markdown",
   "metadata": {},
   "source": [
    "Applying:"
   ]
  },
  {
   "cell_type": "code",
   "execution_count": 18,
   "metadata": {},
   "outputs": [
    {
     "data": {
      "text/html": [
       "<b>Table</b> object, title: <b>Sample</b>, 5 columns, 6 rows.<br>\n",
       "<table>\n",
       "<tr><th>type</th><th>size</th><th>weight</th><th>tel</th><th>something</th></tr>\n",
       "<tr><td>A</td><td>1</td><td>12</td><td>+79360360193</td><td>13</td></tr>\n",
       "<tr><td>B</td><td>4</td><td>12</td><td>84505505151</td><td>48</td></tr>\n",
       "<tr><td>A</td><td>3</td><td>10</td><td>+31415926535</td><td>13</td></tr>\n",
       "<tr><td>B</td><td>6</td><td>14</td><td></td><td>84</td></tr>\n",
       "<tr><td>A</td><td>4</td><td>15</td><td>23816326412</td><td>19</td></tr>\n",
       "<tr><td>A</td><td>2</td><td>11</td><td>None</td><td>13</td></tr>\n",
       "</table>"
      ],
      "text/plain": [
       "- Table object, title: \"Sample\", 5 columns, 6 rows.\n",
       "'type' 'size' 'weight' 'tel' 'something'\n",
       "'A' 1 12 '+79360360193' 13\n",
       "'B' 4 12 84505505151 48\n",
       "'A' 3 10 '+31415926535' 13\n",
       "'B' 6 14 '' 84\n",
       "'A' 4 15 '23816326412' 19\n",
       "'A' 2 11 None 13"
      ]
     },
     "execution_count": 18,
     "metadata": {},
     "output_type": "execute_result"
    }
   ],
   "source": [
    "df2['something'] = df2.calc(process, special='A')\n",
    "df2"
   ]
  }
 ],
 "metadata": {
  "kernelspec": {
   "display_name": "Python 3",
   "language": "python",
   "name": "python3"
  },
  "language_info": {
   "codemirror_mode": {
    "name": "ipython",
    "version": 3
   },
   "file_extension": ".py",
   "mimetype": "text/x-python",
   "name": "python",
   "nbconvert_exporter": "python",
   "pygments_lexer": "ipython3",
   "version": "3.6.5"
  }
 },
 "nbformat": 4,
 "nbformat_minor": 2
}
