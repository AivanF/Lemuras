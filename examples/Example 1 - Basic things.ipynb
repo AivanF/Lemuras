{
 "cells": [
  {
   "cell_type": "markdown",
   "metadata": {},
   "source": [
    "## You need to import only one class from the single file"
   ]
  },
  {
   "cell_type": "code",
   "execution_count": 1,
   "metadata": {
    "collapsed": false
   },
   "outputs": [],
   "source": [
    "from lemuras import Table"
   ]
  },
  {
   "cell_type": "markdown",
   "metadata": {},
   "source": [
    "# Create table with a list of columns' names and values in rows."
   ]
  },
  {
   "cell_type": "code",
   "execution_count": 2,
   "metadata": {
    "collapsed": false
   },
   "outputs": [
    {
     "data": {
      "text/html": [
       "<b>Table</b> object, title: <b>Sample</b>, 4 columns, 6 rows.<br><table><tr><th>'type'</th><th>'size'</th><th>'weight'</th><th>'tel'</th></tr><tr><td>'A'</td><td>1</td><td>12</td><td>'+79360360193'</td></tr><tr><td>'B'</td><td>4</td><td>12</td><td>84505505151</td></tr><tr><td>'A'</td><td>3</td><td>10</td><td>'+31415926535'</td></tr><tr><td>'B'</td><td>6</td><td>14</td><td>''</td></tr><tr><td>'A'</td><td>4</td><td>15</td><td>'23816326412'</td></tr><tr><td>'A'</td><td>2</td><td>11</td><td>0</td></tr></table>"
      ],
      "text/plain": [
       "- Table object, title: \"Sample\", 4 columns, 6 rows.\n",
       "'type' 'size' 'weight' 'tel'\n",
       "'A' 1 12 '+79360360193'\n",
       "'B' 4 12 84505505151\n",
       "'A' 3 10 '+31415926535'\n",
       "'B' 6 14 ''\n",
       "'A' 4 15 '23816326412'\n",
       "'A' 2 11 0"
      ]
     },
     "execution_count": 2,
     "metadata": {},
     "output_type": "execute_result"
    }
   ],
   "source": [
    "cols = ['type', 'size', 'weight', 'tel']\n",
    "rows = [\n",
    "    ['A', 1, 12, '+79360360193'],\n",
    "    ['B', 4, 12, 84505505151],\n",
    "    ['A', 3, 10, '+31415926535'],\n",
    "    ['B', 6, 14, ''],\n",
    "    ['A', 4, 15, '23816326412'],\n",
    "    ['A', 2, 11, 0],\n",
    "]\n",
    "\n",
    "df1 = Table(cols, rows, 'Sample')\n",
    "df1"
   ]
  },
  {
   "cell_type": "markdown",
   "metadata": {},
   "source": [
    "# Copy table"
   ]
  },
  {
   "cell_type": "markdown",
   "metadata": {},
   "source": [
    "You can create a deep copy of initial table. After its modifications, the original table won't be changed."
   ]
  },
  {
   "cell_type": "code",
   "execution_count": 3,
   "metadata": {
    "collapsed": false,
    "scrolled": true
   },
   "outputs": [
    {
     "data": {
      "text/html": [
       "<b>Table</b> object, title: <b>Sample</b>, 4 columns, 6 rows.<br><table><tr><th>'type'</th><th>'size'</th><th>'weight'</th><th>'tel'</th></tr><tr><td>'A'</td><td>1</td><td>12</td><td>'+79360360193'</td></tr><tr><td>'B'</td><td>4</td><td>12</td><td>84505505151</td></tr><tr><td>'A'</td><td>3</td><td>10</td><td>'+31415926535'</td></tr><tr><td>'B'</td><td>6</td><td>14</td><td>''</td></tr><tr><td>'A'</td><td>4</td><td>15</td><td>'23816326412'</td></tr><tr><td>'A'</td><td>2</td><td>11</td><td>0</td></tr></table>"
      ],
      "text/plain": [
       "- Table object, title: \"Sample\", 4 columns, 6 rows.\n",
       "'type' 'size' 'weight' 'tel'\n",
       "'A' 1 12 '+79360360193'\n",
       "'B' 4 12 84505505151\n",
       "'A' 3 10 '+31415926535'\n",
       "'B' 6 14 ''\n",
       "'A' 4 15 '23816326412'\n",
       "'A' 2 11 0"
      ]
     },
     "execution_count": 3,
     "metadata": {},
     "output_type": "execute_result"
    }
   ],
   "source": [
    "df2 = df1.copy()\n",
    "df2"
   ]
  },
  {
   "cell_type": "markdown",
   "metadata": {},
   "source": [
    "# Cells access"
   ]
  },
  {
   "cell_type": "markdown",
   "metadata": {},
   "source": [
    "To get a cell's value, use **`.cell`** method with name or index of a column and row index:"
   ]
  },
  {
   "cell_type": "code",
   "execution_count": 4,
   "metadata": {
    "collapsed": false
   },
   "outputs": [
    {
     "name": "stdout",
     "output_type": "stream",
     "text": [
      "10\n"
     ]
    }
   ],
   "source": [
    "print(df1.cell('weight', 2))"
   ]
  },
  {
   "cell_type": "markdown",
   "metadata": {},
   "source": [
    "Also, you can access cells in the first row without specifying an index:"
   ]
  },
  {
   "cell_type": "code",
   "execution_count": 5,
   "metadata": {
    "collapsed": false
   },
   "outputs": [
    {
     "name": "stdout",
     "output_type": "stream",
     "text": [
      "1\n"
     ]
    }
   ],
   "source": [
    "print(df1.cell('size'))"
   ]
  },
  {
   "cell_type": "markdown",
   "metadata": {},
   "source": [
    "To set a value, use **`.set_cell(column, row, value)`** method:"
   ]
  },
  {
   "cell_type": "code",
   "execution_count": 6,
   "metadata": {
    "collapsed": false
   },
   "outputs": [
    {
     "data": {
      "text/html": [
       "<b>Table</b> object, title: <b>Sample</b>, 4 columns, 6 rows.<br><table><tr><th>'type'</th><th>'size'</th><th>'weight'</th><th>'tel'</th></tr><tr><td>'A'</td><td>1</td><td>9</td><td>'+79360360193'</td></tr><tr><td>'B'</td><td>4</td><td>12</td><td>84505505151</td></tr><tr><td>'A'</td><td>3</td><td>10</td><td>'+31415926535'</td></tr><tr><td>'B'</td><td>6</td><td>14</td><td>''</td></tr><tr><td>'A'</td><td>4</td><td>15</td><td>'23816326412'</td></tr><tr><td>'A'</td><td>2</td><td>11</td><td>0</td></tr></table>"
      ],
      "text/plain": [
       "- Table object, title: \"Sample\", 4 columns, 6 rows.\n",
       "'type' 'size' 'weight' 'tel'\n",
       "'A' 1 9 '+79360360193'\n",
       "'B' 4 12 84505505151\n",
       "'A' 3 10 '+31415926535'\n",
       "'B' 6 14 ''\n",
       "'A' 4 15 '23816326412'\n",
       "'A' 2 11 0"
      ]
     },
     "execution_count": 6,
     "metadata": {},
     "output_type": "execute_result"
    }
   ],
   "source": [
    "df1.set_cell('weight', 0, 9)\n",
    "df1"
   ]
  },
  {
   "cell_type": "markdown",
   "metadata": {},
   "source": [
    "# Columns access"
   ]
  },
  {
   "cell_type": "markdown",
   "metadata": {},
   "source": [
    "There are the following methods to work with columns:"
   ]
  },
  {
   "cell_type": "code",
   "execution_count": 7,
   "metadata": {
    "collapsed": false
   },
   "outputs": [
    {
     "data": {
      "text/html": [
       "<b>Table</b> object, title: <b>Sample</b>, 5 columns, 6 rows.<br><table><tr><th>'type'</th><th>'size'</th><th>'weight'</th><th>'tel'</th><th>'Color'</th></tr><tr><td>'H'</td><td>1</td><td>12</td><td>'+79360360193'</td><td>'red'</td></tr><tr><td>'E'</td><td>4</td><td>12</td><td>84505505151</td><td>'orange'</td></tr><tr><td>'L'</td><td>3</td><td>10</td><td>'+31415926535'</td><td>'yellow'</td></tr><tr><td>'L'</td><td>6</td><td>14</td><td>''</td><td>'green'</td></tr><tr><td>'O'</td><td>4</td><td>15</td><td>'23816326412'</td><td>'blue'</td></tr><tr><td>'!'</td><td>2</td><td>11</td><td>0</td><td>'purple'</td></tr></table>"
      ],
      "text/plain": [
       "- Table object, title: \"Sample\", 5 columns, 6 rows.\n",
       "'type' 'size' 'weight' 'tel' 'Color'\n",
       "'H' 1 12 '+79360360193' 'red'\n",
       "'E' 4 12 84505505151 'orange'\n",
       "'L' 3 10 '+31415926535' 'yellow'\n",
       "'L' 6 14 '' 'green'\n",
       "'O' 4 15 '23816326412' 'blue'\n",
       "'!' 2 11 0 'purple'"
      ]
     },
     "execution_count": 7,
     "metadata": {},
     "output_type": "execute_result"
    }
   ],
   "source": [
    "# First argument must be either a list or a Column object. Second argument is optional title.\n",
    "df2.add_column(['red', 'orange', 'yellow', 'green', 'blue', 'purple'], 'Color')\n",
    "\n",
    "# Sets values for *existing* column. First argument must be a column name or index.\n",
    "# Second argument must be either a list or a Column object.\n",
    "df2.set_column('type', ['H', 'E', 'L', 'L', 'O', '!'])\n",
    "\n",
    "df2"
   ]
  },
  {
   "cell_type": "markdown",
   "metadata": {},
   "source": [
    "To retrieve a column use this:"
   ]
  },
  {
   "cell_type": "code",
   "execution_count": 8,
   "metadata": {
    "collapsed": false
   },
   "outputs": [
    {
     "data": {
      "text/html": [
       "<b>Column</b> object, title: \"size\" values: [1, 4, 3, 6, 4, 2]."
      ],
      "text/plain": [
       "- Column object, title: \"size\" values: [1, 4, 3, 6, 4, 2]."
      ]
     },
     "execution_count": 8,
     "metadata": {},
     "output_type": "execute_result"
    }
   ],
   "source": [
    "df2.column('size')"
   ]
  },
  {
   "cell_type": "markdown",
   "metadata": {},
   "source": [
    "The last 3 methods can be replaced with subscript notation:"
   ]
  },
  {
   "cell_type": "code",
   "execution_count": 9,
   "metadata": {
    "collapsed": false
   },
   "outputs": [
    {
     "data": {
      "text/html": [
       "<b>Table</b> object, title: <b>Sample</b>, 6 columns, 6 rows.<br><table><tr><th>'type'</th><th>'size'</th><th>'weight'</th><th>'tel'</th><th>'Color'</th><th>'lens'</th></tr><tr><td>'H'</td><td>1</td><td>1</td><td>'+79360360193'</td><td>'red'</td><td>3</td></tr><tr><td>'E'</td><td>4</td><td>2</td><td>84505505151</td><td>'orange'</td><td>6</td></tr><tr><td>'L'</td><td>3</td><td>3</td><td>'+31415926535'</td><td>'yellow'</td><td>6</td></tr><tr><td>'L'</td><td>6</td><td>4</td><td>''</td><td>'green'</td><td>5</td></tr><tr><td>'O'</td><td>4</td><td>5</td><td>'23816326412'</td><td>'blue'</td><td>4</td></tr><tr><td>'!'</td><td>2</td><td>6</td><td>0</td><td>'purple'</td><td>6</td></tr></table>"
      ],
      "text/plain": [
       "- Table object, title: \"Sample\", 6 columns, 6 rows.\n",
       "'type' 'size' 'weight' 'tel' 'Color' 'lens'\n",
       "'H' 1 1 '+79360360193' 'red' 3\n",
       "'E' 4 2 84505505151 'orange' 6\n",
       "'L' 3 3 '+31415926535' 'yellow' 6\n",
       "'L' 6 4 '' 'green' 5\n",
       "'O' 4 5 '23816326412' 'blue' 4\n",
       "'!' 2 6 0 'purple' 6"
      ]
     },
     "execution_count": 9,
     "metadata": {},
     "output_type": "execute_result"
    }
   ],
   "source": [
    "df2['weight'] = [1, 2, 3, 4, 5, 6]\n",
    "df2['lens'] = df2['Color'].lengths()\n",
    "df2"
   ]
  },
  {
   "cell_type": "code",
   "execution_count": 10,
   "metadata": {
    "collapsed": false
   },
   "outputs": [
    {
     "data": {
      "text/html": [
       "<b>Column</b> object, title: \"size\" values: [1, 4, 3, 6, 4, 2]."
      ],
      "text/plain": [
       "- Column object, title: \"size\" values: [1, 4, 3, 6, 4, 2]."
      ]
     },
     "execution_count": 10,
     "metadata": {},
     "output_type": "execute_result"
    }
   ],
   "source": [
    "df2['size']"
   ]
  },
  {
   "cell_type": "markdown",
   "metadata": {},
   "source": [
    "# Rename columns"
   ]
  },
  {
   "cell_type": "markdown",
   "metadata": {},
   "source": [
    "You can specify old and new names of a column:"
   ]
  },
  {
   "cell_type": "code",
   "execution_count": 11,
   "metadata": {
    "collapsed": false,
    "scrolled": false
   },
   "outputs": [
    {
     "data": {
      "text/html": [
       "<b>Table</b> object, title: <b>Sample</b>, 6 columns, 6 rows.<br><table><tr><th>'TyPe'</th><th>'size'</th><th>'weight'</th><th>'tel'</th><th>'Color'</th><th>'lens'</th></tr><tr><td>'H'</td><td>1</td><td>1</td><td>'+79360360193'</td><td>'red'</td><td>3</td></tr><tr><td>'E'</td><td>4</td><td>2</td><td>84505505151</td><td>'orange'</td><td>6</td></tr><tr><td>'L'</td><td>3</td><td>3</td><td>'+31415926535'</td><td>'yellow'</td><td>6</td></tr><tr><td>'L'</td><td>6</td><td>4</td><td>''</td><td>'green'</td><td>5</td></tr><tr><td>'O'</td><td>4</td><td>5</td><td>'23816326412'</td><td>'blue'</td><td>4</td></tr><tr><td>'!'</td><td>2</td><td>6</td><td>0</td><td>'purple'</td><td>6</td></tr></table>"
      ],
      "text/plain": [
       "- Table object, title: \"Sample\", 6 columns, 6 rows.\n",
       "'TyPe' 'size' 'weight' 'tel' 'Color' 'lens'\n",
       "'H' 1 1 '+79360360193' 'red' 3\n",
       "'E' 4 2 84505505151 'orange' 6\n",
       "'L' 3 3 '+31415926535' 'yellow' 6\n",
       "'L' 6 4 '' 'green' 5\n",
       "'O' 4 5 '23816326412' 'blue' 4\n",
       "'!' 2 6 0 'purple' 6"
      ]
     },
     "execution_count": 11,
     "metadata": {},
     "output_type": "execute_result"
    }
   ],
   "source": [
    "df2.rename('type', 'TyPe')\n",
    "df2"
   ]
  },
  {
   "cell_type": "markdown",
   "metadata": {},
   "source": [
    "Or, you can set the list itself. But it **must** have the same length!"
   ]
  },
  {
   "cell_type": "code",
   "execution_count": 12,
   "metadata": {
    "collapsed": false,
    "scrolled": false
   },
   "outputs": [
    {
     "data": {
      "text/html": [
       "<b>Table</b> object, title: <b>Sample</b>, 4 columns, 6 rows.<br><table><tr><th>'kind'</th><th>'size'</th><th>'weight'</th><th>'phone'</th></tr><tr><td>'H'</td><td>1</td><td>1</td><td>'+79360360193'</td></tr><tr><td>'E'</td><td>4</td><td>2</td><td>84505505151</td></tr><tr><td>'L'</td><td>3</td><td>3</td><td>'+31415926535'</td></tr><tr><td>'L'</td><td>6</td><td>4</td><td>''</td></tr><tr><td>'O'</td><td>4</td><td>5</td><td>'23816326412'</td></tr><tr><td>'!'</td><td>2</td><td>6</td><td>0</td></tr></table>"
      ],
      "text/plain": [
       "- Table object, title: \"Sample\", 4 columns, 6 rows.\n",
       "'kind' 'size' 'weight' 'phone'\n",
       "'H' 1 1 '+79360360193'\n",
       "'E' 4 2 84505505151\n",
       "'L' 3 3 '+31415926535'\n",
       "'L' 6 4 ''\n",
       "'O' 4 5 '23816326412'\n",
       "'!' 2 6 0"
      ]
     },
     "execution_count": 12,
     "metadata": {},
     "output_type": "execute_result"
    }
   ],
   "source": [
    "df2.columns = ['kind', 'size', 'weight', 'phone']\n",
    "df2"
   ]
  },
  {
   "cell_type": "markdown",
   "metadata": {},
   "source": [
    "# Apply functions and lambdas"
   ]
  },
  {
   "cell_type": "markdown",
   "metadata": {},
   "source": [
    "Just a function to be applied on a column."
   ]
  },
  {
   "cell_type": "code",
   "execution_count": 13,
   "metadata": {
    "collapsed": true
   },
   "outputs": [],
   "source": [
    "def filterPhone(x):\n",
    "    try:\n",
    "        return str(int(x))[-10:]\n",
    "    except:\n",
    "        return ''"
   ]
  },
  {
   "cell_type": "markdown",
   "metadata": {},
   "source": [
    "Apply a function and a lambda expression to columns.\n",
    "\n",
    "**`.apply`** method takes column name as a string or column index as an integer number."
   ]
  },
  {
   "cell_type": "code",
   "execution_count": 14,
   "metadata": {
    "collapsed": false,
    "scrolled": true
   },
   "outputs": [
    {
     "data": {
      "text/html": [
       "<b>Table</b> object, title: <b>Sample</b>, 4 columns, 6 rows.<br><table><tr><th>'type'</th><th>'size'</th><th>'weight'</th><th>'tel'</th></tr><tr><td>'A'</td><td>2</td><td>9</td><td>'9360360193'</td></tr><tr><td>'B'</td><td>8</td><td>12</td><td>'4505505151'</td></tr><tr><td>'A'</td><td>6</td><td>10</td><td>'1415926535'</td></tr><tr><td>'B'</td><td>12</td><td>14</td><td>''</td></tr><tr><td>'A'</td><td>8</td><td>15</td><td>'3816326412'</td></tr><tr><td>'A'</td><td>4</td><td>11</td><td>'0'</td></tr></table>"
      ],
      "text/plain": [
       "- Table object, title: \"Sample\", 4 columns, 6 rows.\n",
       "'type' 'size' 'weight' 'tel'\n",
       "'A' 2 9 '9360360193'\n",
       "'B' 8 12 '4505505151'\n",
       "'A' 6 10 '1415926535'\n",
       "'B' 12 14 ''\n",
       "'A' 8 15 '3816326412'\n",
       "'A' 4 11 '0'"
      ]
     },
     "execution_count": 14,
     "metadata": {},
     "output_type": "execute_result"
    }
   ],
   "source": [
    "df2 = df1.copy()\n",
    "df2.apply(3, filterPhone)\n",
    "df2.apply('size', lambda x: x*2)\n",
    "df2"
   ]
  },
  {
   "cell_type": "markdown",
   "metadata": {},
   "source": [
    "# Filter table by columns' values"
   ]
  },
  {
   "cell_type": "code",
   "execution_count": 15,
   "metadata": {
    "collapsed": false
   },
   "outputs": [
    {
     "data": {
      "text/html": [
       "<b>Table</b> object, title: <b>Filtered Sample</b>, 4 columns, 2 rows.<br><table><tr><th>'type'</th><th>'size'</th><th>'weight'</th><th>'tel'</th></tr><tr><td>'B'</td><td>4</td><td>12</td><td>84505505151</td></tr><tr><td>'B'</td><td>6</td><td>14</td><td>''</td></tr></table>"
      ],
      "text/plain": [
       "- Table object, title: \"Filtered Sample\", 4 columns, 2 rows.\n",
       "'type' 'size' 'weight' 'tel'\n",
       "'B' 4 12 84505505151\n",
       "'B' 6 14 ''"
      ]
     },
     "execution_count": 15,
     "metadata": {},
     "output_type": "execute_result"
    }
   ],
   "source": [
    "df2 = df1.loc( df1[0] == 'B' )\n",
    "df2"
   ]
  },
  {
   "cell_type": "code",
   "execution_count": 16,
   "metadata": {
    "collapsed": false
   },
   "outputs": [
    {
     "data": {
      "text/html": [
       "<b>Table</b> object, title: <b>Filtered Sample</b>, 4 columns, 1 rows.<br><table><tr><th>'type'</th><th>'size'</th><th>'weight'</th><th>'tel'</th></tr><tr><td>'A'</td><td>2</td><td>11</td><td>0</td></tr></table>"
      ],
      "text/plain": [
       "- Table object, title: \"Filtered Sample\", 4 columns, 1 rows.\n",
       "'type' 'size' 'weight' 'tel'\n",
       "'A' 2 11 0"
      ]
     },
     "execution_count": 16,
     "metadata": {},
     "output_type": "execute_result"
    }
   ],
   "source": [
    "c = df1['size'].isin([2,3]) & (df1[0] == 'A') & (df1[2] > 10)\n",
    "\n",
    "df2 = df1.loc(c)\n",
    "df2"
   ]
  },
  {
   "cell_type": "markdown",
   "metadata": {},
   "source": [
    "# Rows access"
   ]
  },
  {
   "cell_type": "markdown",
   "metadata": {},
   "source": [
    "You can get a row as a list by index (0 by default):"
   ]
  },
  {
   "cell_type": "code",
   "execution_count": 17,
   "metadata": {
    "collapsed": false
   },
   "outputs": [
    {
     "data": {
      "text/plain": [
       "['A', 1, 9, '+79360360193']"
      ]
     },
     "execution_count": 17,
     "metadata": {},
     "output_type": "execute_result"
    }
   ],
   "source": [
    "df2 = df1.copy()\n",
    "\n",
    "df2.row()"
   ]
  },
  {
   "cell_type": "markdown",
   "metadata": {},
   "source": [
    "Or as a dictionary:"
   ]
  },
  {
   "cell_type": "code",
   "execution_count": 18,
   "metadata": {
    "collapsed": false
   },
   "outputs": [
    {
     "data": {
      "text/plain": [
       "{'size': 4, 'tel': 84505505151, 'type': 'B', 'weight': 12}"
      ]
     },
     "execution_count": 18,
     "metadata": {},
     "output_type": "execute_result"
    }
   ],
   "source": [
    "df2.row_named(1)"
   ]
  },
  {
   "cell_type": "markdown",
   "metadata": {},
   "source": [
    "Also you can delete a row:"
   ]
  },
  {
   "cell_type": "code",
   "execution_count": 19,
   "metadata": {
    "collapsed": false
   },
   "outputs": [],
   "source": [
    "df2.delete_row(1)\n",
    "# 0 by default\n",
    "df2.delete_row()"
   ]
  },
  {
   "cell_type": "markdown",
   "metadata": {},
   "source": [
    "Or add new ones:"
   ]
  },
  {
   "cell_type": "code",
   "execution_count": 20,
   "metadata": {
    "collapsed": false
   },
   "outputs": [
    {
     "data": {
      "text/html": [
       "<b>Table</b> object, title: <b>Sample</b>, 4 columns, 6 rows.<br><table><tr><th>'type'</th><th>'size'</th><th>'weight'</th><th>'tel'</th></tr><tr><td>'A'</td><td>3</td><td>10</td><td>'+31415926535'</td></tr><tr><td>'B'</td><td>6</td><td>14</td><td>''</td></tr><tr><td>'A'</td><td>4</td><td>15</td><td>'23816326412'</td></tr><tr><td>'A'</td><td>2</td><td>11</td><td>0</td></tr><tr><td>'P'</td><td>2</td><td>3</td><td>'+12345678900'</td></tr><tr><td>'E'</td><td>6</td><td>3</td><td>0</td></tr></table>"
      ],
      "text/plain": [
       "- Table object, title: \"Sample\", 4 columns, 6 rows.\n",
       "'type' 'size' 'weight' 'tel'\n",
       "'A' 3 10 '+31415926535'\n",
       "'B' 6 14 ''\n",
       "'A' 4 15 '23816326412'\n",
       "'A' 2 11 0\n",
       "'P' 2 3 '+12345678900'\n",
       "'E' 6 3 0"
      ]
     },
     "execution_count": 20,
     "metadata": {},
     "output_type": "execute_result"
    }
   ],
   "source": [
    "df2.add_row(['P', 2, 3, '+12345678900'])\n",
    "\n",
    "df2.add_row({'size': 6, 'tel': 0, 'type': 'E', 'weight': 3})\n",
    "\n",
    "df2"
   ]
  },
  {
   "cell_type": "markdown",
   "metadata": {},
   "source": [
    "# Sort table"
   ]
  },
  {
   "cell_type": "markdown",
   "metadata": {},
   "source": [
    "**`.sort`** method takes a column name or a column index or a list of them.\n",
    "\n",
    "Second arument **`asc`** is optional. It may be a boolean value or a list of them."
   ]
  },
  {
   "cell_type": "code",
   "execution_count": 21,
   "metadata": {
    "collapsed": false
   },
   "outputs": [
    {
     "data": {
      "text/html": [
       "<b>Table</b> object, title: <b>Sample</b>, 4 columns, 6 rows.<br><table><tr><th>'type'</th><th>'size'</th><th>'weight'</th><th>'tel'</th></tr><tr><td>'A'</td><td>4</td><td>15</td><td>'23816326412'</td></tr><tr><td>'B'</td><td>6</td><td>14</td><td>''</td></tr><tr><td>'B'</td><td>4</td><td>12</td><td>84505505151</td></tr><tr><td>'A'</td><td>2</td><td>11</td><td>0</td></tr><tr><td>'A'</td><td>3</td><td>10</td><td>'+31415926535'</td></tr><tr><td>'A'</td><td>1</td><td>9</td><td>'+79360360193'</td></tr></table>"
      ],
      "text/plain": [
       "- Table object, title: \"Sample\", 4 columns, 6 rows.\n",
       "'type' 'size' 'weight' 'tel'\n",
       "'A' 4 15 '23816326412'\n",
       "'B' 6 14 ''\n",
       "'B' 4 12 84505505151\n",
       "'A' 2 11 0\n",
       "'A' 3 10 '+31415926535'\n",
       "'A' 1 9 '+79360360193'"
      ]
     },
     "execution_count": 21,
     "metadata": {},
     "output_type": "execute_result"
    }
   ],
   "source": [
    "df1.sort('weight', asc=False)\n",
    "df1"
   ]
  },
  {
   "cell_type": "code",
   "execution_count": 22,
   "metadata": {
    "collapsed": false
   },
   "outputs": [
    {
     "data": {
      "text/html": [
       "<b>Table</b> object, title: <b>Sample</b>, 4 columns, 6 rows.<br><table><tr><th>'type'</th><th>'size'</th><th>'weight'</th><th>'tel'</th></tr><tr><td>'A'</td><td>1</td><td>9</td><td>'+79360360193'</td></tr><tr><td>'A'</td><td>2</td><td>11</td><td>0</td></tr><tr><td>'A'</td><td>3</td><td>10</td><td>'+31415926535'</td></tr><tr><td>'B'</td><td>4</td><td>12</td><td>84505505151</td></tr><tr><td>'A'</td><td>4</td><td>15</td><td>'23816326412'</td></tr><tr><td>'B'</td><td>6</td><td>14</td><td>''</td></tr></table>"
      ],
      "text/plain": [
       "- Table object, title: \"Sample\", 4 columns, 6 rows.\n",
       "'type' 'size' 'weight' 'tel'\n",
       "'A' 1 9 '+79360360193'\n",
       "'A' 2 11 0\n",
       "'A' 3 10 '+31415926535'\n",
       "'B' 4 12 84505505151\n",
       "'A' 4 15 '23816326412'\n",
       "'B' 6 14 ''"
      ]
     },
     "execution_count": 22,
     "metadata": {},
     "output_type": "execute_result"
    }
   ],
   "source": [
    "df1.sort(['size', 'weight'])\n",
    "df1"
   ]
  },
  {
   "cell_type": "code",
   "execution_count": 23,
   "metadata": {
    "collapsed": false
   },
   "outputs": [
    {
     "data": {
      "text/html": [
       "<b>Table</b> object, title: <b>Sample</b>, 4 columns, 6 rows.<br><table><tr><th>'type'</th><th>'size'</th><th>'weight'</th><th>'tel'</th></tr><tr><td>'A'</td><td>4</td><td>15</td><td>'23816326412'</td></tr><tr><td>'B'</td><td>6</td><td>14</td><td>''</td></tr><tr><td>'B'</td><td>4</td><td>12</td><td>84505505151</td></tr><tr><td>'A'</td><td>2</td><td>11</td><td>0</td></tr><tr><td>'A'</td><td>3</td><td>10</td><td>'+31415926535'</td></tr><tr><td>'A'</td><td>1</td><td>9</td><td>'+79360360193'</td></tr></table>"
      ],
      "text/plain": [
       "- Table object, title: \"Sample\", 4 columns, 6 rows.\n",
       "'type' 'size' 'weight' 'tel'\n",
       "'A' 4 15 '23816326412'\n",
       "'B' 6 14 ''\n",
       "'B' 4 12 84505505151\n",
       "'A' 2 11 0\n",
       "'A' 3 10 '+31415926535'\n",
       "'A' 1 9 '+79360360193'"
      ]
     },
     "execution_count": 23,
     "metadata": {},
     "output_type": "execute_result"
    }
   ],
   "source": [
    "df1.sort(['weight', 'size'], asc=[False, True])\n",
    "df1"
   ]
  }
 ],
 "metadata": {
  "kernelspec": {
   "display_name": "Python 3",
   "language": "python",
   "name": "python3"
  },
  "language_info": {
   "codemirror_mode": {
    "name": "ipython",
    "version": 3
   },
   "file_extension": ".py",
   "mimetype": "text/x-python",
   "name": "python",
   "nbconvert_exporter": "python",
   "pygments_lexer": "ipython3",
   "version": "3.6.0"
  }
 },
 "nbformat": 4,
 "nbformat_minor": 2
}
