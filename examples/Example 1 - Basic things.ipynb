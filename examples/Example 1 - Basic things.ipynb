{
 "cells": [
  {
   "cell_type": "markdown",
   "metadata": {},
   "source": [
    "## You need to import only one class"
   ]
  },
  {
   "cell_type": "code",
   "execution_count": 1,
   "metadata": {},
   "outputs": [],
   "source": [
    "from lemuras import Table"
   ]
  },
  {
   "cell_type": "markdown",
   "metadata": {},
   "source": [
    "# Some sample data"
   ]
  },
  {
   "cell_type": "code",
   "execution_count": 2,
   "metadata": {},
   "outputs": [
    {
     "data": {
      "text/html": [
       "<b>Table</b> object, title: <b>Sample</b>, 4 columns, 6 rows.<br>\n",
       "<table>\n",
       "<tr><th>type</th><th>size</th><th>weight</th><th>tel</th></tr>\n",
       "<tr><td>A</td><td>1</td><td>12</td><td>+79360360193</td></tr>\n",
       "<tr><td>B</td><td>4</td><td>12</td><td>84505505151</td></tr>\n",
       "<tr><td>A</td><td>3</td><td>10</td><td>+31415926535</td></tr>\n",
       "<tr><td>B</td><td>6</td><td>14</td><td></td></tr>\n",
       "<tr><td>A</td><td>4</td><td>15</td><td>23816326412</td></tr>\n",
       "<tr><td>A</td><td>2</td><td>11</td><td>None</td></tr>\n",
       "</table>"
      ],
      "text/plain": [
       "- Table object, title: \"Sample\", 4 columns, 6 rows.\n",
       "'type' 'size' 'weight' 'tel'\n",
       "'A' 1 12 '+79360360193'\n",
       "'B' 4 12 84505505151\n",
       "'A' 3 10 '+31415926535'\n",
       "'B' 6 14 ''\n",
       "'A' 4 15 '23816326412'\n",
       "'A' 2 11 None"
      ]
     },
     "execution_count": 2,
     "metadata": {},
     "output_type": "execute_result"
    }
   ],
   "source": [
    "cols = ['type', 'size', 'weight', 'tel']\n",
    "rows = [\n",
    "    ['A', 1, 12, '+79360360193'],\n",
    "    ['B', 4, 12, 84505505151],\n",
    "    ['A', 3, 10, '+31415926535'],\n",
    "    ['B', 6, 14, ''],\n",
    "    ['A', 4, 15, '23816326412'],\n",
    "    ['A', 2, 11, None],\n",
    "]\n",
    "\n",
    "df1 = Table(cols, rows, 'Sample')\n",
    "df1"
   ]
  },
  {
   "cell_type": "markdown",
   "metadata": {},
   "source": [
    "# Cells access"
   ]
  },
  {
   "cell_type": "markdown",
   "metadata": {},
   "source": [
    "To get a cell's value, use **`.cell(column, row)`** method:"
   ]
  },
  {
   "cell_type": "code",
   "execution_count": 3,
   "metadata": {},
   "outputs": [
    {
     "data": {
      "text/plain": [
       "10"
      ]
     },
     "execution_count": 3,
     "metadata": {},
     "output_type": "execute_result"
    }
   ],
   "source": [
    "df1.cell('weight', 2)"
   ]
  },
  {
   "cell_type": "markdown",
   "metadata": {},
   "source": [
    "Or access cell through column:"
   ]
  },
  {
   "cell_type": "code",
   "execution_count": 4,
   "metadata": {},
   "outputs": [
    {
     "data": {
      "text/plain": [
       "10"
      ]
     },
     "execution_count": 4,
     "metadata": {},
     "output_type": "execute_result"
    }
   ],
   "source": [
    "df1['weight'][2]"
   ]
  },
  {
   "cell_type": "markdown",
   "metadata": {},
   "source": [
    "To set a value, you can use both approaches too, using **`.set_cell(column, row, value)`** method or column:"
   ]
  },
  {
   "cell_type": "code",
   "execution_count": 5,
   "metadata": {},
   "outputs": [
    {
     "data": {
      "text/html": [
       "<b>Table</b> object, title: <b>Sample</b>, 4 columns, 6 rows.<br>\n",
       "<table>\n",
       "<tr><th>type</th><th>size</th><th>weight</th><th>tel</th></tr>\n",
       "<tr><td>A</td><td>1</td><td>9</td><td>+79360360193</td></tr>\n",
       "<tr><td>B</td><td>4</td><td>9</td><td>84505505151</td></tr>\n",
       "<tr><td>A</td><td>3</td><td>10</td><td>+31415926535</td></tr>\n",
       "<tr><td>B</td><td>6</td><td>14</td><td></td></tr>\n",
       "<tr><td>A</td><td>4</td><td>15</td><td>23816326412</td></tr>\n",
       "<tr><td>A</td><td>2</td><td>11</td><td>None</td></tr>\n",
       "</table>"
      ],
      "text/plain": [
       "- Table object, title: \"Sample\", 4 columns, 6 rows.\n",
       "'type' 'size' 'weight' 'tel'\n",
       "'A' 1 9 '+79360360193'\n",
       "'B' 4 9 84505505151\n",
       "'A' 3 10 '+31415926535'\n",
       "'B' 6 14 ''\n",
       "'A' 4 15 '23816326412'\n",
       "'A' 2 11 None"
      ]
     },
     "execution_count": 5,
     "metadata": {},
     "output_type": "execute_result"
    }
   ],
   "source": [
    "df1.set_cell('weight', 0, 9)\n",
    "df1['weight'][1] = 9\n",
    "df1"
   ]
  },
  {
   "cell_type": "markdown",
   "metadata": {},
   "source": [
    "# Copy of table"
   ]
  },
  {
   "cell_type": "markdown",
   "metadata": {},
   "source": [
    "You can create a deep copy of initial table. After its modifications, the original table won't be changed."
   ]
  },
  {
   "cell_type": "code",
   "execution_count": 6,
   "metadata": {
    "scrolled": true
   },
   "outputs": [
    {
     "data": {
      "text/html": [
       "<b>Table</b> object, title: <b>Sample</b>, 4 columns, 6 rows.<br>\n",
       "<table>\n",
       "<tr><th>type</th><th>size</th><th>weight</th><th>tel</th></tr>\n",
       "<tr><td>A</td><td>1</td><td>9</td><td>+79360360193</td></tr>\n",
       "<tr><td>B</td><td>4</td><td>9</td><td>84505505151</td></tr>\n",
       "<tr><td>A</td><td>3</td><td>10</td><td>+31415926535</td></tr>\n",
       "<tr><td>B</td><td>6</td><td>14</td><td></td></tr>\n",
       "<tr><td>A</td><td>4</td><td>15</td><td>23816326412</td></tr>\n",
       "<tr><td>A</td><td>2</td><td>11</td><td>None</td></tr>\n",
       "</table>"
      ],
      "text/plain": [
       "- Table object, title: \"Sample\", 4 columns, 6 rows.\n",
       "'type' 'size' 'weight' 'tel'\n",
       "'A' 1 9 '+79360360193'\n",
       "'B' 4 9 84505505151\n",
       "'A' 3 10 '+31415926535'\n",
       "'B' 6 14 ''\n",
       "'A' 4 15 '23816326412'\n",
       "'A' 2 11 None"
      ]
     },
     "execution_count": 6,
     "metadata": {},
     "output_type": "execute_result"
    }
   ],
   "source": [
    "df2 = df1.copy()\n",
    "df2"
   ]
  },
  {
   "cell_type": "markdown",
   "metadata": {},
   "source": [
    "# Columns access"
   ]
  },
  {
   "cell_type": "markdown",
   "metadata": {},
   "source": [
    "There are the following methods to work with columns:"
   ]
  },
  {
   "cell_type": "code",
   "execution_count": 7,
   "metadata": {},
   "outputs": [
    {
     "data": {
      "text/html": [
       "<b>Table</b> object, title: <b>Sample</b>, 5 columns, 6 rows.<br>\n",
       "<table>\n",
       "<tr><th>type</th><th>size</th><th>weight</th><th>tel</th><th>Color</th></tr>\n",
       "<tr><td>H</td><td>1</td><td>9</td><td>+79360360193</td><td>red</td></tr>\n",
       "<tr><td>E</td><td>4</td><td>9</td><td>84505505151</td><td>orange</td></tr>\n",
       "<tr><td>L</td><td>3</td><td>10</td><td>+31415926535</td><td>yellow</td></tr>\n",
       "<tr><td>L</td><td>6</td><td>14</td><td></td><td>green</td></tr>\n",
       "<tr><td>O</td><td>4</td><td>15</td><td>23816326412</td><td>blue</td></tr>\n",
       "<tr><td>!</td><td>2</td><td>11</td><td>None</td><td>purple</td></tr>\n",
       "</table>"
      ],
      "text/plain": [
       "- Table object, title: \"Sample\", 5 columns, 6 rows.\n",
       "'type' 'size' 'weight' 'tel' 'Color'\n",
       "'H' 1 9 '+79360360193' 'red'\n",
       "'E' 4 9 84505505151 'orange'\n",
       "'L' 3 10 '+31415926535' 'yellow'\n",
       "'L' 6 14 '' 'green'\n",
       "'O' 4 15 '23816326412' 'blue'\n",
       "'!' 2 11 None 'purple'"
      ]
     },
     "execution_count": 7,
     "metadata": {},
     "output_type": "execute_result"
    }
   ],
   "source": [
    "# First argument must be either a list or a Column object. Second argument is optional title.\n",
    "df2.add_column(['red', 'orange', 'yellow', 'green', 'blue', 'purple'], 'Color')\n",
    "\n",
    "# Sets values for *existing* column. First argument must be a column name or index.\n",
    "# Second argument must be either a list or a Column object.\n",
    "df2.set_column('type', ['H', 'E', 'L', 'L', 'O', '!'])\n",
    "\n",
    "df2"
   ]
  },
  {
   "cell_type": "markdown",
   "metadata": {},
   "source": [
    "To retrieve a column use this:"
   ]
  },
  {
   "cell_type": "code",
   "execution_count": 8,
   "metadata": {},
   "outputs": [
    {
     "data": {
      "text/html": [
       "<b>Column</b> object, title: \"size\" values: [1, 4, 3, 6, 4, 2]."
      ],
      "text/plain": [
       "- Column object, title: \"size\" values: [1, 4, 3, 6, 4, 2]."
      ]
     },
     "execution_count": 8,
     "metadata": {},
     "output_type": "execute_result"
    }
   ],
   "source": [
    "df2.column('size')"
   ]
  },
  {
   "cell_type": "markdown",
   "metadata": {},
   "source": [
    "All these methods can be replaced with subscript notation:"
   ]
  },
  {
   "cell_type": "code",
   "execution_count": 9,
   "metadata": {},
   "outputs": [
    {
     "data": {
      "text/html": [
       "<b>Table</b> object, title: <b>Sample</b>, 6 columns, 6 rows.<br>\n",
       "<table>\n",
       "<tr><th>type</th><th>size</th><th>weight</th><th>tel</th><th>Color</th><th>lens</th></tr>\n",
       "<tr><td>H</td><td>1</td><td>1</td><td>+79360360193</td><td>red</td><td>3</td></tr>\n",
       "<tr><td>E</td><td>4</td><td>2</td><td>84505505151</td><td>orange</td><td>6</td></tr>\n",
       "<tr><td>L</td><td>3</td><td>3</td><td>+31415926535</td><td>yellow</td><td>6</td></tr>\n",
       "<tr><td>L</td><td>6</td><td>4</td><td></td><td>green</td><td>5</td></tr>\n",
       "<tr><td>O</td><td>4</td><td>5</td><td>23816326412</td><td>blue</td><td>4</td></tr>\n",
       "<tr><td>!</td><td>2</td><td>6</td><td>None</td><td>purple</td><td>6</td></tr>\n",
       "</table>"
      ],
      "text/plain": [
       "- Table object, title: \"Sample\", 6 columns, 6 rows.\n",
       "'type' 'size' 'weight' 'tel' 'Color' 'lens'\n",
       "'H' 1 1 '+79360360193' 'red' 3\n",
       "'E' 4 2 84505505151 'orange' 6\n",
       "'L' 3 3 '+31415926535' 'yellow' 6\n",
       "'L' 6 4 '' 'green' 5\n",
       "'O' 4 5 '23816326412' 'blue' 4\n",
       "'!' 2 6 None 'purple' 6"
      ]
     },
     "execution_count": 9,
     "metadata": {},
     "output_type": "execute_result"
    }
   ],
   "source": [
    "df2['weight'] = [1, 2, 3, 4, 5, 6]\n",
    "df2['lens'] = df2['Color'].lengths()\n",
    "df2"
   ]
  },
  {
   "cell_type": "code",
   "execution_count": 10,
   "metadata": {},
   "outputs": [
    {
     "data": {
      "text/html": [
       "<b>Column</b> object, title: \"size\" values: [1, 4, 3, 6, 4, 2]."
      ],
      "text/plain": [
       "- Column object, title: \"size\" values: [1, 4, 3, 6, 4, 2]."
      ]
     },
     "execution_count": 10,
     "metadata": {},
     "output_type": "execute_result"
    }
   ],
   "source": [
    "df2['size']"
   ]
  },
  {
   "cell_type": "markdown",
   "metadata": {},
   "source": [
    "# Rename columns"
   ]
  },
  {
   "cell_type": "markdown",
   "metadata": {},
   "source": [
    "You can specify old and new names of a column:"
   ]
  },
  {
   "cell_type": "code",
   "execution_count": 11,
   "metadata": {
    "scrolled": false
   },
   "outputs": [
    {
     "data": {
      "text/html": [
       "<b>Table</b> object, title: <b>Sample</b>, 6 columns, 6 rows.<br>\n",
       "<table>\n",
       "<tr><th>TyPe</th><th>size</th><th>weight</th><th>tel</th><th>Color</th><th>lens</th></tr>\n",
       "<tr><td>H</td><td>1</td><td>1</td><td>+79360360193</td><td>red</td><td>3</td></tr>\n",
       "<tr><td>E</td><td>4</td><td>2</td><td>84505505151</td><td>orange</td><td>6</td></tr>\n",
       "<tr><td>L</td><td>3</td><td>3</td><td>+31415926535</td><td>yellow</td><td>6</td></tr>\n",
       "<tr><td>L</td><td>6</td><td>4</td><td></td><td>green</td><td>5</td></tr>\n",
       "<tr><td>O</td><td>4</td><td>5</td><td>23816326412</td><td>blue</td><td>4</td></tr>\n",
       "<tr><td>!</td><td>2</td><td>6</td><td>None</td><td>purple</td><td>6</td></tr>\n",
       "</table>"
      ],
      "text/plain": [
       "- Table object, title: \"Sample\", 6 columns, 6 rows.\n",
       "'TyPe' 'size' 'weight' 'tel' 'Color' 'lens'\n",
       "'H' 1 1 '+79360360193' 'red' 3\n",
       "'E' 4 2 84505505151 'orange' 6\n",
       "'L' 3 3 '+31415926535' 'yellow' 6\n",
       "'L' 6 4 '' 'green' 5\n",
       "'O' 4 5 '23816326412' 'blue' 4\n",
       "'!' 2 6 None 'purple' 6"
      ]
     },
     "execution_count": 11,
     "metadata": {},
     "output_type": "execute_result"
    }
   ],
   "source": [
    "df2.rename('type', 'TyPe')\n",
    "df2"
   ]
  },
  {
   "cell_type": "markdown",
   "metadata": {},
   "source": [
    "# Rows access"
   ]
  },
  {
   "cell_type": "markdown",
   "metadata": {},
   "source": [
    "You can get a row object by index:"
   ]
  },
  {
   "cell_type": "code",
   "execution_count": 12,
   "metadata": {},
   "outputs": [
    {
     "name": "stdout",
     "output_type": "stream",
     "text": [
      "['A',3,10,'+31415926535']\n"
     ]
    }
   ],
   "source": [
    "df2 = df1.copy()\n",
    "some_row = df2.row(2)\n",
    "print(some_row)"
   ]
  },
  {
   "cell_type": "markdown",
   "metadata": {},
   "source": [
    "This is a proxy object which is linked to the original table and has many helpful things:"
   ]
  },
  {
   "cell_type": "code",
   "execution_count": 13,
   "metadata": {},
   "outputs": [
    {
     "name": "stdout",
     "output_type": "stream",
     "text": [
      ".columns: ['type', 'size', 'weight', 'tel']\n",
      ".len: 4\n",
      "[1]: 3\n",
      "[\"type\"]: A\n"
     ]
    },
    {
     "data": {
      "text/html": [
       "<b>Table</b> object, title: <b>Sample</b>, 4 columns, 6 rows.<br>\n",
       "<table>\n",
       "<tr><th>type</th><th>size</th><th>weight</th><th>tel</th></tr>\n",
       "<tr><td>A</td><td>1</td><td>9</td><td>+79360360193</td></tr>\n",
       "<tr><td>B</td><td>4</td><td>9</td><td>84505505151</td></tr>\n",
       "<tr><td>:P</td><td>3</td><td>10</td><td>+31415926535</td></tr>\n",
       "<tr><td>B</td><td>6</td><td>14</td><td></td></tr>\n",
       "<tr><td>A</td><td>4</td><td>15</td><td>23816326412</td></tr>\n",
       "<tr><td>A</td><td>2</td><td>11</td><td>None</td></tr>\n",
       "</table>"
      ],
      "text/plain": [
       "- Table object, title: \"Sample\", 4 columns, 6 rows.\n",
       "'type' 'size' 'weight' 'tel'\n",
       "'A' 1 9 '+79360360193'\n",
       "'B' 4 9 84505505151\n",
       "':P' 3 10 '+31415926535'\n",
       "'B' 6 14 ''\n",
       "'A' 4 15 '23816326412'\n",
       "'A' 2 11 None"
      ]
     },
     "execution_count": 13,
     "metadata": {},
     "output_type": "execute_result"
    }
   ],
   "source": [
    "print('.columns:', some_row.columns)\n",
    "print('.len:', len(some_row))\n",
    "print('[1]:', some_row[1])\n",
    "print('[\"type\"]:', some_row['type'])\n",
    "some_row[0] = ':P'\n",
    "# The table is changed!\n",
    "df2"
   ]
  },
  {
   "cell_type": "markdown",
   "metadata": {},
   "source": [
    "Also, you can extract a row as a dictionary:"
   ]
  },
  {
   "cell_type": "code",
   "execution_count": 14,
   "metadata": {},
   "outputs": [
    {
     "data": {
      "text/plain": [
       "{'type': 'B', 'size': 4, 'weight': 9, 'tel': 84505505151}"
      ]
     },
     "execution_count": 14,
     "metadata": {},
     "output_type": "execute_result"
    }
   ],
   "source": [
    "df2.row_named(1)"
   ]
  },
  {
   "cell_type": "markdown",
   "metadata": {},
   "source": [
    "A row can be deleted:"
   ]
  },
  {
   "cell_type": "code",
   "execution_count": 15,
   "metadata": {},
   "outputs": [],
   "source": [
    "df2.delete_row(1)"
   ]
  },
  {
   "cell_type": "markdown",
   "metadata": {},
   "source": [
    "Or added new ones, both with a list or dictionary:"
   ]
  },
  {
   "cell_type": "code",
   "execution_count": 16,
   "metadata": {},
   "outputs": [
    {
     "data": {
      "text/html": [
       "<b>Table</b> object, title: <b>Sample</b>, 4 columns, 7 rows.<br>\n",
       "<table>\n",
       "<tr><th>type</th><th>size</th><th>weight</th><th>tel</th></tr>\n",
       "<tr><td>A</td><td>1</td><td>9</td><td>+79360360193</td></tr>\n",
       "<tr><td>:P</td><td>3</td><td>10</td><td>+31415926535</td></tr>\n",
       "<tr><td>B</td><td>6</td><td>14</td><td></td></tr>\n",
       "<tr><td>A</td><td>4</td><td>15</td><td>23816326412</td></tr>\n",
       "<tr><td>A</td><td>2</td><td>11</td><td>None</td></tr>\n",
       "<tr><td>P</td><td>2</td><td>3</td><td>+12345678900</td></tr>\n",
       "<tr><td>E</td><td>6</td><td>3</td><td>0</td></tr>\n",
       "</table>"
      ],
      "text/plain": [
       "- Table object, title: \"Sample\", 4 columns, 7 rows.\n",
       "'type' 'size' 'weight' 'tel'\n",
       "'A' 1 9 '+79360360193'\n",
       "':P' 3 10 '+31415926535'\n",
       "'B' 6 14 ''\n",
       "'A' 4 15 '23816326412'\n",
       "'A' 2 11 None\n",
       "'P' 2 3 '+12345678900'\n",
       "'E' 6 3 0"
      ]
     },
     "execution_count": 16,
     "metadata": {},
     "output_type": "execute_result"
    }
   ],
   "source": [
    "df2.add_row(['P', 2, 3, '+12345678900'])\n",
    "\n",
    "df2.add_row({'size': 6, 'tel': 0, 'type': 'E', 'weight': 3})\n",
    "\n",
    "df2"
   ]
  },
  {
   "cell_type": "markdown",
   "metadata": {},
   "source": [
    "# Filtration of table by column values"
   ]
  },
  {
   "cell_type": "markdown",
   "metadata": {},
   "source": [
    "Tables has `.loc(column, separate=False)` method which takes a column and returns new Table with rows on `True` values of the column. Creation of such columns is simple because columns support many logical operators:"
   ]
  },
  {
   "cell_type": "code",
   "execution_count": 17,
   "metadata": {},
   "outputs": [
    {
     "data": {
      "text/html": [
       "<b>Table</b> object, title: <b>Filtered Sample</b>, 4 columns, 2 rows.<br>\n",
       "<table>\n",
       "<tr><th>type</th><th>size</th><th>weight</th><th>tel</th></tr>\n",
       "<tr><td>B</td><td>4</td><td>9</td><td>84505505151</td></tr>\n",
       "<tr><td>B</td><td>6</td><td>14</td><td></td></tr>\n",
       "</table>"
      ],
      "text/plain": [
       "- Table object, title: \"Filtered Sample\", 4 columns, 2 rows.\n",
       "'type' 'size' 'weight' 'tel'\n",
       "'B' 4 9 84505505151\n",
       "'B' 6 14 ''"
      ]
     },
     "execution_count": 17,
     "metadata": {},
     "output_type": "execute_result"
    }
   ],
   "source": [
    "df2 = df1.copy()\n",
    "df2 = df1.loc( df1[0] == 'B' )\n",
    "df2"
   ]
  },
  {
   "cell_type": "markdown",
   "metadata": {},
   "source": [
    "By default, **`loc`** method creates a linked table, so if you modify it, the original table will be modified too (set `separate=True` to prevent this behaviour)."
   ]
  },
  {
   "cell_type": "code",
   "execution_count": 18,
   "metadata": {},
   "outputs": [
    {
     "data": {
      "text/html": [
       "<b>Table</b> object, title: <b>Sample</b>, 4 columns, 6 rows.<br>\n",
       "<table>\n",
       "<tr><th>type</th><th>size</th><th>weight</th><th>tel</th></tr>\n",
       "<tr><td>A</td><td>1</td><td>9</td><td>+79360360193</td></tr>\n",
       "<tr><td>B</td><td>4</td><td>9</td><td>84505505151</td></tr>\n",
       "<tr><td>A</td><td>3</td><td>10</td><td>+31415926535</td></tr>\n",
       "<tr><td>B</td><td>6</td><td>14</td><td></td></tr>\n",
       "<tr><td>A</td><td>4</td><td>15</td><td>23816326412</td></tr>\n",
       "<tr><td>A</td><td>111</td><td>11</td><td>None</td></tr>\n",
       "</table>"
      ],
      "text/plain": [
       "- Table object, title: \"Sample\", 4 columns, 6 rows.\n",
       "'type' 'size' 'weight' 'tel'\n",
       "'A' 1 9 '+79360360193'\n",
       "'B' 4 9 84505505151\n",
       "'A' 3 10 '+31415926535'\n",
       "'B' 6 14 ''\n",
       "'A' 4 15 '23816326412'\n",
       "'A' 111 11 None"
      ]
     },
     "execution_count": 18,
     "metadata": {},
     "output_type": "execute_result"
    }
   ],
   "source": [
    "c = df1['size'].isin([2,3]) & (df1[0] == 'A') & (df1[2] > 10)\n",
    "\n",
    "df2 = df1.loc(c)\n",
    "df2['size'][0] = 111\n",
    "df1"
   ]
  },
  {
   "cell_type": "markdown",
   "metadata": {},
   "source": [
    "# Sort table"
   ]
  },
  {
   "cell_type": "markdown",
   "metadata": {},
   "source": [
    "**`.sort`** method takes a column name or a column index or a list of them.\n",
    "\n",
    "Second arument **`asc`** is optional. It may be a boolean value or a list of them (if multiple columns given))."
   ]
  },
  {
   "cell_type": "code",
   "execution_count": 19,
   "metadata": {},
   "outputs": [
    {
     "data": {
      "text/html": [
       "<b>Table</b> object, title: <b>Sample</b>, 4 columns, 6 rows.<br>\n",
       "<table>\n",
       "<tr><th>type</th><th>size</th><th>weight</th><th>tel</th></tr>\n",
       "<tr><td>A</td><td>4</td><td>15</td><td>23816326412</td></tr>\n",
       "<tr><td>B</td><td>6</td><td>14</td><td></td></tr>\n",
       "<tr><td>A</td><td>111</td><td>11</td><td>None</td></tr>\n",
       "<tr><td>A</td><td>3</td><td>10</td><td>+31415926535</td></tr>\n",
       "<tr><td>A</td><td>1</td><td>9</td><td>+79360360193</td></tr>\n",
       "<tr><td>B</td><td>4</td><td>9</td><td>84505505151</td></tr>\n",
       "</table>"
      ],
      "text/plain": [
       "- Table object, title: \"Sample\", 4 columns, 6 rows.\n",
       "'type' 'size' 'weight' 'tel'\n",
       "'A' 4 15 '23816326412'\n",
       "'B' 6 14 ''\n",
       "'A' 111 11 None\n",
       "'A' 3 10 '+31415926535'\n",
       "'A' 1 9 '+79360360193'\n",
       "'B' 4 9 84505505151"
      ]
     },
     "execution_count": 19,
     "metadata": {},
     "output_type": "execute_result"
    }
   ],
   "source": [
    "df1.sort('weight', asc=False)\n",
    "df1"
   ]
  },
  {
   "cell_type": "code",
   "execution_count": 20,
   "metadata": {},
   "outputs": [
    {
     "data": {
      "text/html": [
       "<b>Table</b> object, title: <b>Sample</b>, 4 columns, 6 rows.<br>\n",
       "<table>\n",
       "<tr><th>type</th><th>size</th><th>weight</th><th>tel</th></tr>\n",
       "<tr><td>A</td><td>1</td><td>9</td><td>+79360360193</td></tr>\n",
       "<tr><td>A</td><td>3</td><td>10</td><td>+31415926535</td></tr>\n",
       "<tr><td>B</td><td>4</td><td>9</td><td>84505505151</td></tr>\n",
       "<tr><td>A</td><td>4</td><td>15</td><td>23816326412</td></tr>\n",
       "<tr><td>B</td><td>6</td><td>14</td><td></td></tr>\n",
       "<tr><td>A</td><td>111</td><td>11</td><td>None</td></tr>\n",
       "</table>"
      ],
      "text/plain": [
       "- Table object, title: \"Sample\", 4 columns, 6 rows.\n",
       "'type' 'size' 'weight' 'tel'\n",
       "'A' 1 9 '+79360360193'\n",
       "'A' 3 10 '+31415926535'\n",
       "'B' 4 9 84505505151\n",
       "'A' 4 15 '23816326412'\n",
       "'B' 6 14 ''\n",
       "'A' 111 11 None"
      ]
     },
     "execution_count": 20,
     "metadata": {},
     "output_type": "execute_result"
    }
   ],
   "source": [
    "df1.sort(['size', 'weight'])\n",
    "df1"
   ]
  },
  {
   "cell_type": "code",
   "execution_count": 21,
   "metadata": {},
   "outputs": [
    {
     "data": {
      "text/html": [
       "<b>Table</b> object, title: <b>Sample</b>, 4 columns, 6 rows.<br>\n",
       "<table>\n",
       "<tr><th>type</th><th>size</th><th>weight</th><th>tel</th></tr>\n",
       "<tr><td>A</td><td>4</td><td>15</td><td>23816326412</td></tr>\n",
       "<tr><td>B</td><td>6</td><td>14</td><td></td></tr>\n",
       "<tr><td>A</td><td>111</td><td>11</td><td>None</td></tr>\n",
       "<tr><td>A</td><td>3</td><td>10</td><td>+31415926535</td></tr>\n",
       "<tr><td>A</td><td>1</td><td>9</td><td>+79360360193</td></tr>\n",
       "<tr><td>B</td><td>4</td><td>9</td><td>84505505151</td></tr>\n",
       "</table>"
      ],
      "text/plain": [
       "- Table object, title: \"Sample\", 4 columns, 6 rows.\n",
       "'type' 'size' 'weight' 'tel'\n",
       "'A' 4 15 '23816326412'\n",
       "'B' 6 14 ''\n",
       "'A' 111 11 None\n",
       "'A' 3 10 '+31415926535'\n",
       "'A' 1 9 '+79360360193'\n",
       "'B' 4 9 84505505151"
      ]
     },
     "execution_count": 21,
     "metadata": {},
     "output_type": "execute_result"
    }
   ],
   "source": [
    "df1.sort(['weight', 'size'], asc=[False, True])\n",
    "df1"
   ]
  }
 ],
 "metadata": {
  "kernelspec": {
   "display_name": "Python 3",
   "language": "python",
   "name": "python3"
  },
  "language_info": {
   "codemirror_mode": {
    "name": "ipython",
    "version": 3
   },
   "file_extension": ".py",
   "mimetype": "text/x-python",
   "name": "python",
   "nbconvert_exporter": "python",
   "pygments_lexer": "ipython3",
   "version": "3.6.5"
  }
 },
 "nbformat": 4,
 "nbformat_minor": 2
}
