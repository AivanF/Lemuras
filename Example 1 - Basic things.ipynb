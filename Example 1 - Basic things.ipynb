{
 "cells": [
  {
   "cell_type": "markdown",
   "metadata": {},
   "source": [
    "## You need to import only one class from a single file"
   ]
  },
  {
   "cell_type": "code",
   "execution_count": 1,
   "metadata": {
    "collapsed": true
   },
   "outputs": [],
   "source": [
    "from lemuras import Table"
   ]
  },
  {
   "cell_type": "markdown",
   "metadata": {},
   "source": [
    "# Create table with a list of columns' names and values in rows."
   ]
  },
  {
   "cell_type": "code",
   "execution_count": 2,
   "metadata": {
    "collapsed": false
   },
   "outputs": [
    {
     "data": {
      "text/html": [
       "<b>Table</b> object, 4 columns, 6 rows.<br><table><tr><th>'type'</th><th>'size'</th><th>'weight'</th><th>'tel'</th></tr><tr><td>'A'</td><td>1</td><td>12</td><td>'+79360360193'</td></tr><tr><td>'B'</td><td>4</td><td>12</td><td>84505505151</td></tr><tr><td>'A'</td><td>3</td><td>10</td><td>'+31415926535'</td></tr><tr><td>'B'</td><td>6</td><td>14</td><td>''</td></tr><tr><td>'A'</td><td>4</td><td>15</td><td>'23816326412'</td></tr><tr><td>'A'</td><td>2</td><td>11</td><td>0</td></tr></table>"
      ],
      "text/plain": [
       "- Table object, 4 columns, 6 rows.\n",
       "'type' 'size' 'weight' 'tel'\n",
       "'A' 1 12 '+79360360193'\n",
       "'B' 4 12 84505505151\n",
       "'A' 3 10 '+31415926535'\n",
       "'B' 6 14 ''\n",
       "'A' 4 15 '23816326412'\n",
       "'A' 2 11 0"
      ]
     },
     "execution_count": 2,
     "metadata": {},
     "output_type": "execute_result"
    }
   ],
   "source": [
    "cols = ['type', 'size', 'weight', 'tel']\n",
    "rows = [\n",
    "    ['A', 1, 12, '+79360360193'],\n",
    "    ['B', 4, 12, 84505505151],\n",
    "    ['A', 3, 10, '+31415926535'],\n",
    "    ['B', 6, 14, ''],\n",
    "    ['A', 4, 15, '23816326412'],\n",
    "    ['A', 2, 11, 0],\n",
    "]\n",
    "\n",
    "df1 = Table(cols, rows)\n",
    "df1"
   ]
  },
  {
   "cell_type": "markdown",
   "metadata": {},
   "source": [
    "# Cells access"
   ]
  },
  {
   "cell_type": "markdown",
   "metadata": {},
   "source": [
    "To get a cell's value, use **`.cell`** method with name or index of a column and row index:"
   ]
  },
  {
   "cell_type": "code",
   "execution_count": 3,
   "metadata": {
    "collapsed": false
   },
   "outputs": [
    {
     "name": "stdout",
     "output_type": "stream",
     "text": [
      "10\n"
     ]
    }
   ],
   "source": [
    "print(df1.cell('weight', 2))"
   ]
  },
  {
   "cell_type": "markdown",
   "metadata": {},
   "source": [
    "Also, you can access the first row without specifying an index:"
   ]
  },
  {
   "cell_type": "code",
   "execution_count": 4,
   "metadata": {
    "collapsed": false
   },
   "outputs": [
    {
     "name": "stdout",
     "output_type": "stream",
     "text": [
      "1\n"
     ]
    }
   ],
   "source": [
    "print(df1.cell('size'))"
   ]
  },
  {
   "cell_type": "markdown",
   "metadata": {},
   "source": [
    "# Filter table by columns' values"
   ]
  },
  {
   "cell_type": "code",
   "execution_count": 5,
   "metadata": {
    "collapsed": false
   },
   "outputs": [
    {
     "data": {
      "text/html": [
       "<b>Table</b> object, 4 columns, 2 rows.<br><table><tr><th>'type'</th><th>'size'</th><th>'weight'</th><th>'tel'</th></tr><tr><td>'B'</td><td>4</td><td>12</td><td>84505505151</td></tr><tr><td>'B'</td><td>6</td><td>14</td><td>''</td></tr></table>"
      ],
      "text/plain": [
       "- Table object, 4 columns, 2 rows.\n",
       "'type' 'size' 'weight' 'tel'\n",
       "'B' 4 12 84505505151\n",
       "'B' 6 14 ''"
      ]
     },
     "execution_count": 5,
     "metadata": {},
     "output_type": "execute_result"
    }
   ],
   "source": [
    "df2 = df1.loc( df1[0] == 'B' )\n",
    "df2"
   ]
  },
  {
   "cell_type": "code",
   "execution_count": 6,
   "metadata": {
    "collapsed": false
   },
   "outputs": [
    {
     "data": {
      "text/html": [
       "<b>Table</b> object, 4 columns, 1 rows.<br><table><tr><th>'type'</th><th>'size'</th><th>'weight'</th><th>'tel'</th></tr><tr><td>'A'</td><td>2</td><td>11</td><td>0</td></tr></table>"
      ],
      "text/plain": [
       "- Table object, 4 columns, 1 rows.\n",
       "'type' 'size' 'weight' 'tel'\n",
       "'A' 2 11 0"
      ]
     },
     "execution_count": 6,
     "metadata": {},
     "output_type": "execute_result"
    }
   ],
   "source": [
    "c = df1['size'].isin([2,3]) & (df1[0] == 'A') & (df1[2] > 10)\n",
    "\n",
    "df2 = df1.loc(c)\n",
    "df2"
   ]
  },
  {
   "cell_type": "markdown",
   "metadata": {},
   "source": [
    "# Copy table"
   ]
  },
  {
   "cell_type": "markdown",
   "metadata": {},
   "source": [
    "# Apply a function or a lambda to column"
   ]
  },
  {
   "cell_type": "markdown",
   "metadata": {},
   "source": [
    "Just a function to be applied on a column."
   ]
  },
  {
   "cell_type": "code",
   "execution_count": 7,
   "metadata": {
    "collapsed": true
   },
   "outputs": [],
   "source": [
    "def filterPhone(x):\n",
    "    try:\n",
    "        return str(int(x))[-10:]\n",
    "    except:\n",
    "        return ''"
   ]
  },
  {
   "cell_type": "markdown",
   "metadata": {},
   "source": [
    "Create a deep copy of initial table and apply a function and a lambda expression to columns.\n",
    "\n",
    "**`.apply`** method takes column name as a string or column index as an integer number."
   ]
  },
  {
   "cell_type": "code",
   "execution_count": 8,
   "metadata": {
    "collapsed": false,
    "scrolled": true
   },
   "outputs": [
    {
     "data": {
      "text/html": [
       "<b>Table</b> object, 4 columns, 6 rows.<br><table><tr><th>'type'</th><th>'size'</th><th>'weight'</th><th>'tel'</th></tr><tr><td>'A'</td><td>2</td><td>12</td><td>'9360360193'</td></tr><tr><td>'B'</td><td>8</td><td>12</td><td>'4505505151'</td></tr><tr><td>'A'</td><td>6</td><td>10</td><td>'1415926535'</td></tr><tr><td>'B'</td><td>12</td><td>14</td><td>''</td></tr><tr><td>'A'</td><td>8</td><td>15</td><td>'3816326412'</td></tr><tr><td>'A'</td><td>4</td><td>11</td><td>'0'</td></tr></table>"
      ],
      "text/plain": [
       "- Table object, 4 columns, 6 rows.\n",
       "'type' 'size' 'weight' 'tel'\n",
       "'A' 2 12 '9360360193'\n",
       "'B' 8 12 '4505505151'\n",
       "'A' 6 10 '1415926535'\n",
       "'B' 12 14 ''\n",
       "'A' 8 15 '3816326412'\n",
       "'A' 4 11 '0'"
      ]
     },
     "execution_count": 8,
     "metadata": {},
     "output_type": "execute_result"
    }
   ],
   "source": [
    "df2 = df1.copy()\n",
    "df2.apply(3, filterPhone)\n",
    "df2.apply('size', lambda x: x*2)\n",
    "df2"
   ]
  },
  {
   "cell_type": "markdown",
   "metadata": {},
   "source": [
    "The original table was not changes:"
   ]
  },
  {
   "cell_type": "code",
   "execution_count": 9,
   "metadata": {
    "collapsed": false
   },
   "outputs": [
    {
     "data": {
      "text/html": [
       "<b>Table</b> object, 4 columns, 6 rows.<br><table><tr><th>'type'</th><th>'size'</th><th>'weight'</th><th>'tel'</th></tr><tr><td>'A'</td><td>1</td><td>12</td><td>'+79360360193'</td></tr><tr><td>'B'</td><td>4</td><td>12</td><td>84505505151</td></tr><tr><td>'A'</td><td>3</td><td>10</td><td>'+31415926535'</td></tr><tr><td>'B'</td><td>6</td><td>14</td><td>''</td></tr><tr><td>'A'</td><td>4</td><td>15</td><td>'23816326412'</td></tr><tr><td>'A'</td><td>2</td><td>11</td><td>0</td></tr></table>"
      ],
      "text/plain": [
       "- Table object, 4 columns, 6 rows.\n",
       "'type' 'size' 'weight' 'tel'\n",
       "'A' 1 12 '+79360360193'\n",
       "'B' 4 12 84505505151\n",
       "'A' 3 10 '+31415926535'\n",
       "'B' 6 14 ''\n",
       "'A' 4 15 '23816326412'\n",
       "'A' 2 11 0"
      ]
     },
     "execution_count": 9,
     "metadata": {},
     "output_type": "execute_result"
    }
   ],
   "source": [
    "df1"
   ]
  },
  {
   "cell_type": "markdown",
   "metadata": {},
   "source": [
    "# Rename columns"
   ]
  },
  {
   "cell_type": "markdown",
   "metadata": {},
   "source": [
    "You can specify old and new names of a column:"
   ]
  },
  {
   "cell_type": "code",
   "execution_count": 10,
   "metadata": {
    "collapsed": false
   },
   "outputs": [
    {
     "data": {
      "text/html": [
       "<b>Table</b> object, 4 columns, 6 rows.<br><table><tr><th>'TyPe'</th><th>'size'</th><th>'weight'</th><th>'tel'</th></tr><tr><td>'A'</td><td>2</td><td>12</td><td>'9360360193'</td></tr><tr><td>'B'</td><td>8</td><td>12</td><td>'4505505151'</td></tr><tr><td>'A'</td><td>6</td><td>10</td><td>'1415926535'</td></tr><tr><td>'B'</td><td>12</td><td>14</td><td>''</td></tr><tr><td>'A'</td><td>8</td><td>15</td><td>'3816326412'</td></tr><tr><td>'A'</td><td>4</td><td>11</td><td>'0'</td></tr></table>"
      ],
      "text/plain": [
       "- Table object, 4 columns, 6 rows.\n",
       "'TyPe' 'size' 'weight' 'tel'\n",
       "'A' 2 12 '9360360193'\n",
       "'B' 8 12 '4505505151'\n",
       "'A' 6 10 '1415926535'\n",
       "'B' 12 14 ''\n",
       "'A' 8 15 '3816326412'\n",
       "'A' 4 11 '0'"
      ]
     },
     "execution_count": 10,
     "metadata": {},
     "output_type": "execute_result"
    }
   ],
   "source": [
    "df2.renameColumn('type', 'TyPe')\n",
    "df2"
   ]
  },
  {
   "cell_type": "markdown",
   "metadata": {},
   "source": [
    "Or, you can set the list itself. But it **must** have the same length!"
   ]
  },
  {
   "cell_type": "code",
   "execution_count": 11,
   "metadata": {
    "collapsed": false
   },
   "outputs": [
    {
     "data": {
      "text/html": [
       "<b>Table</b> object, 4 columns, 6 rows.<br><table><tr><th>'kind'</th><th>'size'</th><th>'weight'</th><th>'phone'</th></tr><tr><td>'A'</td><td>2</td><td>12</td><td>'9360360193'</td></tr><tr><td>'B'</td><td>8</td><td>12</td><td>'4505505151'</td></tr><tr><td>'A'</td><td>6</td><td>10</td><td>'1415926535'</td></tr><tr><td>'B'</td><td>12</td><td>14</td><td>''</td></tr><tr><td>'A'</td><td>8</td><td>15</td><td>'3816326412'</td></tr><tr><td>'A'</td><td>4</td><td>11</td><td>'0'</td></tr></table>"
      ],
      "text/plain": [
       "- Table object, 4 columns, 6 rows.\n",
       "'kind' 'size' 'weight' 'phone'\n",
       "'A' 2 12 '9360360193'\n",
       "'B' 8 12 '4505505151'\n",
       "'A' 6 10 '1415926535'\n",
       "'B' 12 14 ''\n",
       "'A' 8 15 '3816326412'\n",
       "'A' 4 11 '0'"
      ]
     },
     "execution_count": 11,
     "metadata": {},
     "output_type": "execute_result"
    }
   ],
   "source": [
    "df2.columns = ['kind', 'size', 'weight', 'phone']\n",
    "df2"
   ]
  },
  {
   "cell_type": "markdown",
   "metadata": {},
   "source": [
    "# Sort table"
   ]
  },
  {
   "cell_type": "markdown",
   "metadata": {},
   "source": [
    "**`.sort`** method takes a column name or a column index or a list of them.\n",
    "\n",
    "Second arument **`asc`** is optional. It may be a boolean value or a list of them."
   ]
  },
  {
   "cell_type": "code",
   "execution_count": 12,
   "metadata": {
    "collapsed": false
   },
   "outputs": [
    {
     "data": {
      "text/html": [
       "<b>Table</b> object, 4 columns, 6 rows.<br><table><tr><th>'type'</th><th>'size'</th><th>'weight'</th><th>'tel'</th></tr><tr><td>'A'</td><td>4</td><td>15</td><td>'23816326412'</td></tr><tr><td>'B'</td><td>6</td><td>14</td><td>''</td></tr><tr><td>'A'</td><td>1</td><td>12</td><td>'+79360360193'</td></tr><tr><td>'B'</td><td>4</td><td>12</td><td>84505505151</td></tr><tr><td>'A'</td><td>2</td><td>11</td><td>0</td></tr><tr><td>'A'</td><td>3</td><td>10</td><td>'+31415926535'</td></tr></table>"
      ],
      "text/plain": [
       "- Table object, 4 columns, 6 rows.\n",
       "'type' 'size' 'weight' 'tel'\n",
       "'A' 4 15 '23816326412'\n",
       "'B' 6 14 ''\n",
       "'A' 1 12 '+79360360193'\n",
       "'B' 4 12 84505505151\n",
       "'A' 2 11 0\n",
       "'A' 3 10 '+31415926535'"
      ]
     },
     "execution_count": 12,
     "metadata": {},
     "output_type": "execute_result"
    }
   ],
   "source": [
    "df1.sort('weight', asc=False)\n",
    "df1"
   ]
  },
  {
   "cell_type": "code",
   "execution_count": 13,
   "metadata": {
    "collapsed": false
   },
   "outputs": [
    {
     "data": {
      "text/html": [
       "<b>Table</b> object, 4 columns, 6 rows.<br><table><tr><th>'type'</th><th>'size'</th><th>'weight'</th><th>'tel'</th></tr><tr><td>'A'</td><td>1</td><td>12</td><td>'+79360360193'</td></tr><tr><td>'A'</td><td>2</td><td>11</td><td>0</td></tr><tr><td>'A'</td><td>3</td><td>10</td><td>'+31415926535'</td></tr><tr><td>'B'</td><td>4</td><td>12</td><td>84505505151</td></tr><tr><td>'A'</td><td>4</td><td>15</td><td>'23816326412'</td></tr><tr><td>'B'</td><td>6</td><td>14</td><td>''</td></tr></table>"
      ],
      "text/plain": [
       "- Table object, 4 columns, 6 rows.\n",
       "'type' 'size' 'weight' 'tel'\n",
       "'A' 1 12 '+79360360193'\n",
       "'A' 2 11 0\n",
       "'A' 3 10 '+31415926535'\n",
       "'B' 4 12 84505505151\n",
       "'A' 4 15 '23816326412'\n",
       "'B' 6 14 ''"
      ]
     },
     "execution_count": 13,
     "metadata": {},
     "output_type": "execute_result"
    }
   ],
   "source": [
    "df1.sort(['size', 'weight'])\n",
    "df1"
   ]
  },
  {
   "cell_type": "code",
   "execution_count": 14,
   "metadata": {
    "collapsed": false
   },
   "outputs": [
    {
     "data": {
      "text/html": [
       "<b>Table</b> object, 4 columns, 6 rows.<br><table><tr><th>'type'</th><th>'size'</th><th>'weight'</th><th>'tel'</th></tr><tr><td>'A'</td><td>4</td><td>15</td><td>'23816326412'</td></tr><tr><td>'B'</td><td>6</td><td>14</td><td>''</td></tr><tr><td>'A'</td><td>1</td><td>12</td><td>'+79360360193'</td></tr><tr><td>'B'</td><td>4</td><td>12</td><td>84505505151</td></tr><tr><td>'A'</td><td>2</td><td>11</td><td>0</td></tr><tr><td>'A'</td><td>3</td><td>10</td><td>'+31415926535'</td></tr></table>"
      ],
      "text/plain": [
       "- Table object, 4 columns, 6 rows.\n",
       "'type' 'size' 'weight' 'tel'\n",
       "'A' 4 15 '23816326412'\n",
       "'B' 6 14 ''\n",
       "'A' 1 12 '+79360360193'\n",
       "'B' 4 12 84505505151\n",
       "'A' 2 11 0\n",
       "'A' 3 10 '+31415926535'"
      ]
     },
     "execution_count": 14,
     "metadata": {},
     "output_type": "execute_result"
    }
   ],
   "source": [
    "df1.sort(['weight', 'size'], asc=[False, True])\n",
    "df1"
   ]
  },
  {
   "cell_type": "markdown",
   "metadata": {},
   "source": [
    "# Work with CSV"
   ]
  },
  {
   "cell_type": "markdown",
   "metadata": {},
   "source": [
    "If you specify an argument to **`.toCsv`** method, it will be used as a filename for saving the result."
   ]
  },
  {
   "cell_type": "code",
   "execution_count": 15,
   "metadata": {
    "collapsed": false,
    "scrolled": true
   },
   "outputs": [
    {
     "data": {
      "text/plain": [
       "'type,size,weight,tel\\nA,4,15,23816326412\\nB,6,14,\\nA,1,12,+79360360193\\nB,4,12,84505505151\\nA,2,11,0\\nA,3,10,+31415926535'"
      ]
     },
     "execution_count": 15,
     "metadata": {},
     "output_type": "execute_result"
    }
   ],
   "source": [
    "txt = df1.toCsv()\n",
    "txt"
   ]
  },
  {
   "cell_type": "markdown",
   "metadata": {},
   "source": [
    "Without **`inline=True`** the first argument of **`fromCsv`** class method will be considered as a file name for data loading."
   ]
  },
  {
   "cell_type": "code",
   "execution_count": 16,
   "metadata": {
    "collapsed": false
   },
   "outputs": [
    {
     "data": {
      "text/html": [
       "<b>Table</b> object, 4 columns, 6 rows.<br><table><tr><th>'type'</th><th>'size'</th><th>'weight'</th><th>'tel'</th></tr><tr><td>'A'</td><td>4</td><td>15</td><td>23816326412</td></tr><tr><td>'B'</td><td>6</td><td>14</td><td>''</td></tr><tr><td>'A'</td><td>1</td><td>12</td><td>79360360193</td></tr><tr><td>'B'</td><td>4</td><td>12</td><td>84505505151</td></tr><tr><td>'A'</td><td>2</td><td>11</td><td>0</td></tr><tr><td>'A'</td><td>3</td><td>10</td><td>31415926535</td></tr></table>"
      ],
      "text/plain": [
       "- Table object, 4 columns, 6 rows.\n",
       "'type' 'size' 'weight' 'tel'\n",
       "'A' 4 15 23816326412\n",
       "'B' 6 14 ''\n",
       "'A' 1 12 79360360193\n",
       "'B' 4 12 84505505151\n",
       "'A' 2 11 0\n",
       "'A' 3 10 31415926535"
      ]
     },
     "execution_count": 16,
     "metadata": {},
     "output_type": "execute_result"
    }
   ],
   "source": [
    "df2 = Table.fromCsv(txt, inline=True)\n",
    "df2"
   ]
  }
 ],
 "metadata": {
  "kernelspec": {
   "display_name": "Python 3",
   "language": "python",
   "name": "python3"
  },
  "language_info": {
   "codemirror_mode": {
    "name": "ipython",
    "version": 3
   },
   "file_extension": ".py",
   "mimetype": "text/x-python",
   "name": "python",
   "nbconvert_exporter": "python",
   "pygments_lexer": "ipython3",
   "version": "3.6.0"
  }
 },
 "nbformat": 4,
 "nbformat_minor": 2
}
