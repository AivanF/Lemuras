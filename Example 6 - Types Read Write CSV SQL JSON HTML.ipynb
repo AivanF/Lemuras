{
 "cells": [
  {
   "cell_type": "markdown",
   "metadata": {},
   "source": [
    "In this notebook you will get information about **Lemuras** data types and how to read and write **Table** objects in and from **CSV, SQL, JSON** and **HTML** formats."
   ]
  },
  {
   "cell_type": "markdown",
   "metadata": {},
   "source": [
    "### Sample data"
   ]
  },
  {
   "cell_type": "code",
   "execution_count": 1,
   "metadata": {
    "collapsed": false
   },
   "outputs": [
    {
     "data": {
      "text/html": [
       "<b>Table</b> object, title: <b>Sample</b>, 5 columns, 6 rows.<br><table><tr><th>'type'</th><th>'size'</th><th>'weight'</th><th>'when'</th><th>'tel'</th></tr><tr><td>'A'</td><td>1</td><td>12</td><td>2018-02-27 03:09:14.492055</td><td>'+79360360193'</td></tr><tr><td>'B'</td><td>4</td><td>12</td><td>2018-01-28 03:09:14.492080</td><td>84505505151</td></tr><tr><td>'A'</td><td>3</td><td>10</td><td>2018-01-13 03:09:14.492085</td><td>'+31415926535'</td></tr><tr><td>'B'</td><td>6</td><td>14</td><td>2017-04-03 03:09:14.492088</td><td>0</td></tr><tr><td>'A'</td><td>4</td><td>15</td><td>2017-08-05 03:09:14.492092</td><td>None</td></tr><tr><td>'A'</td><td>2</td><td>11</td><td>2017-08-22 03:09:14.492096</td><td>''</td></tr></table>"
      ],
      "text/plain": [
       "- Table object, title: \"Sample\", 5 columns, 6 rows.\n",
       "'type' 'size' 'weight' 'when' 'tel'\n",
       "'A' 1 12 2018-02-27 03:09:14.492055 '+79360360193'\n",
       "'B' 4 12 2018-01-28 03:09:14.492080 84505505151\n",
       "'A' 3 10 2018-01-13 03:09:14.492085 '+31415926535'\n",
       "'B' 6 14 2017-04-03 03:09:14.492088 0\n",
       "'A' 4 15 2017-08-05 03:09:14.492092 None\n",
       "'A' 2 11 2017-08-22 03:09:14.492096 ''"
      ]
     },
     "execution_count": 1,
     "metadata": {},
     "output_type": "execute_result"
    }
   ],
   "source": [
    "from lemuras import Table\n",
    "from datetime import datetime, timedelta\n",
    "\n",
    "def mkdt(ds):\n",
    "    return datetime.now() - timedelta(days=ds)\n",
    "\n",
    "cols = ['type', 'size', 'weight', 'when', 'tel']\n",
    "rows = [\n",
    "  ['A', 1, 12, mkdt(3), '+79360360193'],\n",
    "  ['B', 4, 12, mkdt(33), 84505505151],\n",
    "  ['A', 3, 10, mkdt(48), '+31415926535'],\n",
    "  ['B', 6, 14, mkdt(333), 0],\n",
    "  ['A', 4, 15, mkdt(209), None],\n",
    "  ['A', 2, 11, mkdt(192), ''],\n",
    "]\n",
    "df1 = Table(cols, rows, 'Sample')\n",
    "df1"
   ]
  },
  {
   "cell_type": "markdown",
   "metadata": {},
   "source": [
    "# Data types"
   ]
  },
  {
   "cell_type": "markdown",
   "metadata": {},
   "source": [
    "Lemuras Table object consists of native Python lists, so, it can contain any objects that support **str** and **repr**. However, there is advanced built-in support for handling such types:\n",
    "\n",
    "- **int** – identifier **`i`**.\n",
    "- **float** – identifier **`f`**.\n",
    "- **str** – identifier **`s`**.\n",
    "- **date** – identifier **`d`**.\n",
    "- **datetime** – identifier **`t`**.\n",
    "\n",
    "Also, you can meet the identifier **`m`** which means that a column has multiple or mixed types."
   ]
  },
  {
   "cell_type": "markdown",
   "metadata": {},
   "source": [
    "The **`.get_type()`** method of **Column** object return tuple with the type identifier and maximum needed symbols length:"
   ]
  },
  {
   "cell_type": "code",
   "execution_count": 2,
   "metadata": {
    "collapsed": false
   },
   "outputs": [
    {
     "data": {
      "text/plain": [
       "('i', 2)"
      ]
     },
     "execution_count": 2,
     "metadata": {},
     "output_type": "execute_result"
    }
   ],
   "source": [
    "df1['weight'].get_type()"
   ]
  },
  {
   "cell_type": "markdown",
   "metadata": {},
   "source": [
    "The **`.find_types()`** method of **Table** object return new **Table** with types of each column:"
   ]
  },
  {
   "cell_type": "code",
   "execution_count": 3,
   "metadata": {
    "collapsed": false
   },
   "outputs": [
    {
     "data": {
      "text/html": [
       "<b>Table</b> object, title: <b>Types</b>, 3 columns, 5 rows.<br><table><tr><th>'Column'</th><th>'Type'</th><th>'Symbols'</th></tr><tr><td>'type'</td><td>'s'</td><td>1</td></tr><tr><td>'size'</td><td>'i'</td><td>1</td></tr><tr><td>'weight'</td><td>'i'</td><td>2</td></tr><tr><td>'when'</td><td>'t'</td><td>26</td></tr><tr><td>'tel'</td><td>'m'</td><td>12</td></tr></table>"
      ],
      "text/plain": [
       "- Table object, title: \"Types\", 3 columns, 5 rows.\n",
       "'Column' 'Type' 'Symbols'\n",
       "'type' 's' 1\n",
       "'size' 'i' 1\n",
       "'weight' 'i' 2\n",
       "'when' 't' 26\n",
       "'tel' 'm' 12"
      ]
     },
     "execution_count": 3,
     "metadata": {},
     "output_type": "execute_result"
    }
   ],
   "source": [
    "df1.find_types()"
   ]
  },
  {
   "cell_type": "markdown",
   "metadata": {},
   "source": [
    "# Save CSV"
   ]
  },
  {
   "cell_type": "markdown",
   "metadata": {},
   "source": [
    "Use **`.to_csv`** method to save the data as comma-separated-values. And if you specify an argument, it will be used as a filename for saving the result."
   ]
  },
  {
   "cell_type": "code",
   "execution_count": 4,
   "metadata": {
    "collapsed": false
   },
   "outputs": [
    {
     "data": {
      "text/plain": [
       "'type,size,weight,when,tel\\nA,1,12,2018-02-27 03:09:14.492055,+79360360193\\nB,4,12,2018-01-28 03:09:14.492080,84505505151\\nA,3,10,2018-01-13 03:09:14.492085,+31415926535\\nB,6,14,2017-04-03 03:09:14.492088,0\\nA,4,15,2017-08-05 03:09:14.492092,None\\nA,2,11,2017-08-22 03:09:14.492096,'"
      ]
     },
     "execution_count": 4,
     "metadata": {},
     "output_type": "execute_result"
    }
   ],
   "source": [
    "txt = df1.to_csv()\n",
    "txt"
   ]
  },
  {
   "cell_type": "markdown",
   "metadata": {},
   "source": [
    "# Load CSV"
   ]
  },
  {
   "cell_type": "markdown",
   "metadata": {},
   "source": [
    "Use **`.from_csv`** class method to create a Table object with given CSV data.\n",
    "\n",
    "By default the first argument will be considered as a file name for data loading. You can change this behaviour useing **`inline=True`** argument:"
   ]
  },
  {
   "cell_type": "code",
   "execution_count": 5,
   "metadata": {
    "collapsed": false,
    "scrolled": true
   },
   "outputs": [
    {
     "data": {
      "text/html": [
       "<b>Table</b> object, title: <b>NoTitle</b>, 5 columns, 6 rows.<br><table><tr><th>'type'</th><th>'size'</th><th>'weight'</th><th>'when'</th><th>'tel'</th></tr><tr><td>'A'</td><td>1</td><td>12</td><td>2018-02-27 03:09:14</td><td>79360360193</td></tr><tr><td>'B'</td><td>4</td><td>12</td><td>2018-01-28 03:09:14</td><td>84505505151</td></tr><tr><td>'A'</td><td>3</td><td>10</td><td>2018-01-13 03:09:14</td><td>31415926535</td></tr><tr><td>'B'</td><td>6</td><td>14</td><td>2017-04-03 03:09:14</td><td>0</td></tr><tr><td>'A'</td><td>4</td><td>15</td><td>2017-08-05 03:09:14</td><td>None</td></tr><tr><td>'A'</td><td>2</td><td>11</td><td>2017-08-22 03:09:14</td><td>None</td></tr></table>"
      ],
      "text/plain": [
       "- Table object, title: \"NoTitle\", 5 columns, 6 rows.\n",
       "'type' 'size' 'weight' 'when' 'tel'\n",
       "'A' 1 12 2018-02-27 03:09:14 79360360193\n",
       "'B' 4 12 2018-01-28 03:09:14 84505505151\n",
       "'A' 3 10 2018-01-13 03:09:14 31415926535\n",
       "'B' 6 14 2017-04-03 03:09:14 0\n",
       "'A' 4 15 2017-08-05 03:09:14 None\n",
       "'A' 2 11 2017-08-22 03:09:14 None"
      ]
     },
     "execution_count": 5,
     "metadata": {},
     "output_type": "execute_result"
    }
   ],
   "source": [
    "df2 = Table.from_csv(txt, inline=True)\n",
    "df2"
   ]
  },
  {
   "cell_type": "markdown",
   "metadata": {},
   "source": [
    "The types detected are the same as before serialization:"
   ]
  },
  {
   "cell_type": "code",
   "execution_count": 6,
   "metadata": {
    "collapsed": false
   },
   "outputs": [
    {
     "data": {
      "text/html": [
       "<b>Table</b> object, title: <b>Types</b>, 3 columns, 5 rows.<br><table><tr><th>'Column'</th><th>'Type'</th><th>'Symbols'</th></tr><tr><td>'type'</td><td>'s'</td><td>1</td></tr><tr><td>'size'</td><td>'i'</td><td>1</td></tr><tr><td>'weight'</td><td>'i'</td><td>2</td></tr><tr><td>'when'</td><td>'t'</td><td>19</td></tr><tr><td>'tel'</td><td>'m'</td><td>11</td></tr></table>"
      ],
      "text/plain": [
       "- Table object, title: \"Types\", 3 columns, 5 rows.\n",
       "'Column' 'Type' 'Symbols'\n",
       "'type' 's' 1\n",
       "'size' 'i' 1\n",
       "'weight' 'i' 2\n",
       "'when' 't' 19\n",
       "'tel' 'm' 11"
      ]
     },
     "execution_count": 6,
     "metadata": {},
     "output_type": "execute_result"
    }
   ],
   "source": [
    "df2.find_types()"
   ]
  },
  {
   "cell_type": "markdown",
   "metadata": {},
   "source": [
    "Also, you can specify a value to replace **None** values:"
   ]
  },
  {
   "cell_type": "code",
   "execution_count": 7,
   "metadata": {
    "collapsed": false
   },
   "outputs": [
    {
     "data": {
      "text/html": [
       "<b>Table</b> object, title: <b>NoTitle</b>, 5 columns, 6 rows.<br><table><tr><th>'type'</th><th>'size'</th><th>'weight'</th><th>'when'</th><th>'tel'</th></tr><tr><td>'A'</td><td>1</td><td>12</td><td>2018-02-27 03:09:14</td><td>79360360193</td></tr><tr><td>'B'</td><td>4</td><td>12</td><td>2018-01-28 03:09:14</td><td>84505505151</td></tr><tr><td>'A'</td><td>3</td><td>10</td><td>2018-01-13 03:09:14</td><td>31415926535</td></tr><tr><td>'B'</td><td>6</td><td>14</td><td>2017-04-03 03:09:14</td><td>0</td></tr><tr><td>'A'</td><td>4</td><td>15</td><td>2017-08-05 03:09:14</td><td>0</td></tr><tr><td>'A'</td><td>2</td><td>11</td><td>2017-08-22 03:09:14</td><td>0</td></tr></table>"
      ],
      "text/plain": [
       "- Table object, title: \"NoTitle\", 5 columns, 6 rows.\n",
       "'type' 'size' 'weight' 'when' 'tel'\n",
       "'A' 1 12 2018-02-27 03:09:14 79360360193\n",
       "'B' 4 12 2018-01-28 03:09:14 84505505151\n",
       "'A' 3 10 2018-01-13 03:09:14 31415926535\n",
       "'B' 6 14 2017-04-03 03:09:14 0\n",
       "'A' 4 15 2017-08-05 03:09:14 0\n",
       "'A' 2 11 2017-08-22 03:09:14 0"
      ]
     },
     "execution_count": 7,
     "metadata": {},
     "output_type": "execute_result"
    }
   ],
   "source": [
    "df2 = Table.from_csv(txt, inline=True, empty=0)\n",
    "df2"
   ]
  },
  {
   "cell_type": "markdown",
   "metadata": {},
   "source": [
    "Or, you can disable preprocessing of the data to leave the values as strings:"
   ]
  },
  {
   "cell_type": "code",
   "execution_count": 8,
   "metadata": {
    "collapsed": false,
    "scrolled": true
   },
   "outputs": [
    {
     "data": {
      "text/html": [
       "<b>Table</b> object, title: <b>NoTitle</b>, 5 columns, 6 rows.<br><table><tr><th>'type'</th><th>'size'</th><th>'weight'</th><th>'when'</th><th>'tel'</th></tr><tr><td>'A'</td><td>'1'</td><td>'12'</td><td>'2018-02-27 03:09:14.492055'</td><td>'+79360360193'</td></tr><tr><td>'B'</td><td>'4'</td><td>'12'</td><td>'2018-01-28 03:09:14.492080'</td><td>'84505505151'</td></tr><tr><td>'A'</td><td>'3'</td><td>'10'</td><td>'2018-01-13 03:09:14.492085'</td><td>'+31415926535'</td></tr><tr><td>'B'</td><td>'6'</td><td>'14'</td><td>'2017-04-03 03:09:14.492088'</td><td>'0'</td></tr><tr><td>'A'</td><td>'4'</td><td>'15'</td><td>'2017-08-05 03:09:14.492092'</td><td>'None'</td></tr><tr><td>'A'</td><td>'2'</td><td>'11'</td><td>'2017-08-22 03:09:14.492096'</td><td>''</td></tr></table>"
      ],
      "text/plain": [
       "- Table object, title: \"NoTitle\", 5 columns, 6 rows.\n",
       "'type' 'size' 'weight' 'when' 'tel'\n",
       "'A' '1' '12' '2018-02-27 03:09:14.492055' '+79360360193'\n",
       "'B' '4' '12' '2018-01-28 03:09:14.492080' '84505505151'\n",
       "'A' '3' '10' '2018-01-13 03:09:14.492085' '+31415926535'\n",
       "'B' '6' '14' '2017-04-03 03:09:14.492088' '0'\n",
       "'A' '4' '15' '2017-08-05 03:09:14.492092' 'None'\n",
       "'A' '2' '11' '2017-08-22 03:09:14.492096' ''"
      ]
     },
     "execution_count": 8,
     "metadata": {},
     "output_type": "execute_result"
    }
   ],
   "source": [
    "df2 = Table.from_csv(txt, inline=True, preprocess=False)\n",
    "df2"
   ]
  },
  {
   "cell_type": "markdown",
   "metadata": {},
   "source": [
    "# Save SQL"
   ]
  },
  {
   "cell_type": "markdown",
   "metadata": {},
   "source": [
    "Using Lemuras, you can work with SQL! You can extract table creation code for SQL. It uses automatic detection of columns types that was described earlier."
   ]
  },
  {
   "cell_type": "code",
   "execution_count": 9,
   "metadata": {
    "collapsed": false,
    "scrolled": true
   },
   "outputs": [
    {
     "name": "stdout",
     "output_type": "stream",
     "text": [
      "CREATE TABLE `Sample` (\n",
      "  `type` varchar(1),\n",
      "  `size` int(1),\n",
      "  `weight` int(1),\n",
      "  `when` datetime,\n",
      "  `tel` varchar(12)\n",
      ") ;\n"
     ]
    }
   ],
   "source": [
    "sql_cr = df1.to_sql_create()\n",
    "print(sql_cr)"
   ]
  },
  {
   "cell_type": "markdown",
   "metadata": {},
   "source": [
    "And get the code to fill the data:"
   ]
  },
  {
   "cell_type": "code",
   "execution_count": 10,
   "metadata": {
    "collapsed": false
   },
   "outputs": [
    {
     "name": "stdout",
     "output_type": "stream",
     "text": [
      "INSERT INTO `Sample` VALUES ('A',1,12,'2018-02-27 03:09:14.492055','+79360360193'), ('B',4,12,'2018-01-28 03:09:14.492080','84505505151'), ('A',3,10,'2018-01-13 03:09:14.492085','+31415926535'), ('B',6,14,'2017-04-03 03:09:14.492088','0'), ('A',4,15,'2017-08-05 03:09:14.492092','None'), ('A',2,11,'2017-08-22 03:09:14.492096','');\n"
     ]
    }
   ],
   "source": [
    "sql_vals = df1.to_sql_values()\n",
    "print(sql_vals)"
   ]
  },
  {
   "cell_type": "markdown",
   "metadata": {},
   "source": [
    "# Load SQL"
   ]
  },
  {
   "cell_type": "markdown",
   "metadata": {},
   "source": [
    "Firstly, load the table declaration to retrieve the structure:"
   ]
  },
  {
   "cell_type": "code",
   "execution_count": 11,
   "metadata": {
    "collapsed": false
   },
   "outputs": [
    {
     "data": {
      "text/html": [
       "<b>Table</b> object, title: <b>Sample</b>, 5 columns, 0 rows.<br><table><tr><th>'type'</th><th>'size'</th><th>'weight'</th><th>'when'</th><th>'tel'</th></tr></table>"
      ],
      "text/plain": [
       "- Table object, title: \"Sample\", 5 columns, 0 rows.\n",
       "'type' 'size' 'weight' 'when' 'tel'"
      ]
     },
     "execution_count": 11,
     "metadata": {},
     "output_type": "execute_result"
    }
   ],
   "source": [
    "df2 = Table.from_sql_create(sql_cr)\n",
    "df2"
   ]
  },
  {
   "cell_type": "markdown",
   "metadata": {},
   "source": [
    "Then, supply the data:"
   ]
  },
  {
   "cell_type": "code",
   "execution_count": 12,
   "metadata": {
    "collapsed": false
   },
   "outputs": [
    {
     "data": {
      "text/html": [
       "<b>Table</b> object, title: <b>Sample</b>, 5 columns, 6 rows.<br><table><tr><th>'type'</th><th>'size'</th><th>'weight'</th><th>'when'</th><th>'tel'</th></tr><tr><td>'A'</td><td>1</td><td>12</td><td>2018-02-27 03:09:14</td><td>79360360193</td></tr><tr><td>'B'</td><td>4</td><td>12</td><td>2018-01-28 03:09:14</td><td>84505505151</td></tr><tr><td>'A'</td><td>3</td><td>10</td><td>2018-01-13 03:09:14</td><td>31415926535</td></tr><tr><td>'B'</td><td>6</td><td>14</td><td>2017-04-03 03:09:14</td><td>0</td></tr><tr><td>'A'</td><td>4</td><td>15</td><td>2017-08-05 03:09:14</td><td>None</td></tr><tr><td>'A'</td><td>2</td><td>11</td><td>2017-08-22 03:09:14</td><td>None</td></tr></table>"
      ],
      "text/plain": [
       "- Table object, title: \"Sample\", 5 columns, 6 rows.\n",
       "'type' 'size' 'weight' 'when' 'tel'\n",
       "'A' 1 12 2018-02-27 03:09:14 79360360193\n",
       "'B' 4 12 2018-01-28 03:09:14 84505505151\n",
       "'A' 3 10 2018-01-13 03:09:14 31415926535\n",
       "'B' 6 14 2017-04-03 03:09:14 0\n",
       "'A' 4 15 2017-08-05 03:09:14 None\n",
       "'A' 2 11 2017-08-22 03:09:14 None"
      ]
     },
     "execution_count": 12,
     "metadata": {},
     "output_type": "execute_result"
    }
   ],
   "source": [
    "df2.add_sql_values(sql_vals)\n",
    "df2"
   ]
  },
  {
   "cell_type": "markdown",
   "metadata": {},
   "source": [
    "# Save JSON"
   ]
  },
  {
   "cell_type": "markdown",
   "metadata": {},
   "source": [
    "You can save a Table object to JSON string with rows as lists (by default) and set **`pretty`** to get more readable text:"
   ]
  },
  {
   "cell_type": "code",
   "execution_count": 13,
   "metadata": {
    "collapsed": false
   },
   "outputs": [
    {
     "name": "stdout",
     "output_type": "stream",
     "text": [
      "{\n",
      "  \"columns\": [\n",
      "    \"type\", \"size\", \"weight\", \"when\", \"tel\"\n",
      "  ], \n",
      "  \"rows\": [\n",
      "    [\n",
      "      \"A\", 1, 12, \"2018-02-27 03:09:14.492055\", \"+79360360193\"\n",
      "    ], [\n",
      "      \"B\", 4, 12, \"2018-01-28 03:09:14.492080\", 84505505151\n",
      "    ], [\n",
      "      \"A\", 3, 10, \"2018-01-13 03:09:14.492085\", \"+31415926535\"\n",
      "    ], [\n",
      "      \"B\", 6, 14, \"2017-04-03 03:09:14.492088\", 0\n",
      "    ], [\n",
      "      \"A\", 4, 15, \"2017-08-05 03:09:14.492092\", \"None\"\n",
      "    ], [\n",
      "      \"A\", 2, 11, \"2017-08-22 03:09:14.492096\", \"\"\n",
      "    ]\n",
      "  ], \n",
      "  \"title\": \"Sample\"\n",
      "}\n"
     ]
    }
   ],
   "source": [
    "s = df1.to_json(pretty=True)\n",
    "print(s)"
   ]
  },
  {
   "cell_type": "markdown",
   "metadata": {},
   "source": [
    "Or you can save rows as objects (though it is much less compact):"
   ]
  },
  {
   "cell_type": "code",
   "execution_count": 14,
   "metadata": {
    "collapsed": false
   },
   "outputs": [
    {
     "name": "stdout",
     "output_type": "stream",
     "text": [
      "{\n",
      "  \"columns\": [\n",
      "    \"type\", \"size\", \"weight\", \"when\", \"tel\"\n",
      "  ], \n",
      "  \"rows\": [\n",
      "    {\n",
      "      \"type\": \"A\", \"size\": 1, \"weight\": 12, \"when\": \"2018-02-27 03:09:14.492055\", \"tel\": \"+79360360193\"\n",
      "    }, {\n",
      "      \"type\": \"B\", \"size\": 4, \"weight\": 12, \"when\": \"2018-01-28 03:09:14.492080\", \"tel\": 84505505151\n",
      "    }, {\n",
      "      \"type\": \"A\", \"size\": 3, \"weight\": 10, \"when\": \"2018-01-13 03:09:14.492085\", \"tel\": \"+31415926535\"\n",
      "    }, {\n",
      "      \"type\": \"B\", \"size\": 6, \"weight\": 14, \"when\": \"2017-04-03 03:09:14.492088\", \"tel\": 0\n",
      "    }, {\n",
      "      \"type\": \"A\", \"size\": 4, \"weight\": 15, \"when\": \"2017-08-05 03:09:14.492092\", \"tel\": \"None\"\n",
      "    }, {\n",
      "      \"type\": \"A\", \"size\": 2, \"weight\": 11, \"when\": \"2017-08-22 03:09:14.492096\", \"tel\": \"\"\n",
      "    }\n",
      "  ], \n",
      "  \"title\": \"Sample\"\n",
      "}\n"
     ]
    }
   ],
   "source": [
    "s = df1.to_json(as_dict=True, pretty=True)\n",
    "print(s)"
   ]
  },
  {
   "cell_type": "markdown",
   "metadata": {},
   "source": [
    "# Load JSON"
   ]
  },
  {
   "cell_type": "markdown",
   "metadata": {},
   "source": [
    "You can load a JSON string with one of two mentioned formats (but **title** is optional):"
   ]
  },
  {
   "cell_type": "code",
   "execution_count": 15,
   "metadata": {
    "collapsed": false
   },
   "outputs": [
    {
     "data": {
      "text/html": [
       "<b>Table</b> object, title: <b>Sample</b>, 5 columns, 6 rows.<br><table><tr><th>'type'</th><th>'size'</th><th>'weight'</th><th>'when'</th><th>'tel'</th></tr><tr><td>'A'</td><td>1</td><td>12</td><td>'2018-02-27 03:09:14.492055'</td><td>'+79360360193'</td></tr><tr><td>'B'</td><td>4</td><td>12</td><td>'2018-01-28 03:09:14.492080'</td><td>84505505151</td></tr><tr><td>'A'</td><td>3</td><td>10</td><td>'2018-01-13 03:09:14.492085'</td><td>'+31415926535'</td></tr><tr><td>'B'</td><td>6</td><td>14</td><td>'2017-04-03 03:09:14.492088'</td><td>0</td></tr><tr><td>'A'</td><td>4</td><td>15</td><td>'2017-08-05 03:09:14.492092'</td><td>'None'</td></tr><tr><td>'A'</td><td>2</td><td>11</td><td>'2017-08-22 03:09:14.492096'</td><td>''</td></tr></table>"
      ],
      "text/plain": [
       "- Table object, title: \"Sample\", 5 columns, 6 rows.\n",
       "'type' 'size' 'weight' 'when' 'tel'\n",
       "'A' 1 12 '2018-02-27 03:09:14.492055' '+79360360193'\n",
       "'B' 4 12 '2018-01-28 03:09:14.492080' 84505505151\n",
       "'A' 3 10 '2018-01-13 03:09:14.492085' '+31415926535'\n",
       "'B' 6 14 '2017-04-03 03:09:14.492088' 0\n",
       "'A' 4 15 '2017-08-05 03:09:14.492092' 'None'\n",
       "'A' 2 11 '2017-08-22 03:09:14.492096' ''"
      ]
     },
     "execution_count": 15,
     "metadata": {},
     "output_type": "execute_result"
    }
   ],
   "source": [
    "df2 = Table.from_json(s)\n",
    "df2"
   ]
  },
  {
   "cell_type": "markdown",
   "metadata": {},
   "source": [
    "# Save HTML"
   ]
  },
  {
   "cell_type": "markdown",
   "metadata": {},
   "source": [
    "To save data as an HTML table use **`.html()`** instance method. To turn off default cutting of rows and columns disable *`cut`* optional parameter:"
   ]
  },
  {
   "cell_type": "code",
   "execution_count": 16,
   "metadata": {
    "collapsed": false
   },
   "outputs": [
    {
     "data": {
      "text/plain": [
       "\"<table><tr><th>'type'</th><th>'size'</th><th>'weight'</th><th>'when'</th><th>'tel'</th></tr><tr><td>'A'</td><td>1</td><td>12</td><td>2018-02-27 03:09:14.492055</td><td>'+79360360193'</td></tr><tr><td>'B'</td><td>4</td><td>12</td><td>2018-01-28 03:09:14.492080</td><td>84505505151</td></tr><tr><td>'A'</td><td>3</td><td>10</td><td>2018-01-13 03:09:14.492085</td><td>'+31415926535'</td></tr><tr><td>'B'</td><td>6</td><td>14</td><td>2017-04-03 03:09:14.492088</td><td>0</td></tr><tr><td>'A'</td><td>4</td><td>15</td><td>2017-08-05 03:09:14.492092</td><td>None</td></tr><tr><td>'A'</td><td>2</td><td>11</td><td>2017-08-22 03:09:14.492096</td><td>''</td></tr></table>\""
      ]
     },
     "execution_count": 16,
     "metadata": {},
     "output_type": "execute_result"
    }
   ],
   "source": [
    "df1.html(cut=False)"
   ]
  },
  {
   "cell_type": "markdown",
   "metadata": {},
   "source": [
    "By the way, Table objects output for these Jupyter Notebooks is implemented using this method."
   ]
  },
  {
   "cell_type": "code",
   "execution_count": 17,
   "metadata": {
    "collapsed": false
   },
   "outputs": [
    {
     "data": {
      "text/html": [
       "<b>Table</b> object, title: <b>Sample</b>, 5 columns, 6 rows.<br><table><tr><th>'type'</th><th>'size'</th><th>'weight'</th><th>'when'</th><th>'tel'</th></tr><tr><td>'A'</td><td>1</td><td>12</td><td>2018-02-27 03:09:14.492055</td><td>'+79360360193'</td></tr><tr><td>'B'</td><td>4</td><td>12</td><td>2018-01-28 03:09:14.492080</td><td>84505505151</td></tr><tr><td>'A'</td><td>3</td><td>10</td><td>2018-01-13 03:09:14.492085</td><td>'+31415926535'</td></tr><tr><td>'B'</td><td>6</td><td>14</td><td>2017-04-03 03:09:14.492088</td><td>0</td></tr><tr><td>'A'</td><td>4</td><td>15</td><td>2017-08-05 03:09:14.492092</td><td>None</td></tr><tr><td>'A'</td><td>2</td><td>11</td><td>2017-08-22 03:09:14.492096</td><td>''</td></tr></table>"
      ],
      "text/plain": [
       "- Table object, title: \"Sample\", 5 columns, 6 rows.\n",
       "'type' 'size' 'weight' 'when' 'tel'\n",
       "'A' 1 12 2018-02-27 03:09:14.492055 '+79360360193'\n",
       "'B' 4 12 2018-01-28 03:09:14.492080 84505505151\n",
       "'A' 3 10 2018-01-13 03:09:14.492085 '+31415926535'\n",
       "'B' 6 14 2017-04-03 03:09:14.492088 0\n",
       "'A' 4 15 2017-08-05 03:09:14.492092 None\n",
       "'A' 2 11 2017-08-22 03:09:14.492096 ''"
      ]
     },
     "execution_count": 17,
     "metadata": {},
     "output_type": "execute_result"
    }
   ],
   "source": [
    "df1"
   ]
  }
 ],
 "metadata": {
  "kernelspec": {
   "display_name": "Python 3",
   "language": "python",
   "name": "python3"
  },
  "language_info": {
   "codemirror_mode": {
    "name": "ipython",
    "version": 3
   },
   "file_extension": ".py",
   "mimetype": "text/x-python",
   "name": "python",
   "nbconvert_exporter": "python",
   "pygments_lexer": "ipython3",
   "version": "3.6.0"
  }
 },
 "nbformat": 4,
 "nbformat_minor": 2
}
