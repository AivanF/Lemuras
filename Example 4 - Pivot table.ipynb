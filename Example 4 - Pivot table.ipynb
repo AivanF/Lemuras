{
 "cells": [
  {
   "cell_type": "code",
   "execution_count": 1,
   "metadata": {
    "collapsed": true
   },
   "outputs": [],
   "source": [
    "from lemuras import Table"
   ]
  },
  {
   "cell_type": "markdown",
   "metadata": {},
   "source": [
    "## Load source table"
   ]
  },
  {
   "cell_type": "code",
   "execution_count": 6,
   "metadata": {
    "collapsed": false
   },
   "outputs": [
    {
     "data": {
      "text/html": [
       "<b>Table</b> object, 3 columns, 54 rows.<br><table><tr><th>'dateClient'</th><th>'dateOrder'</th><th>'count'</th></tr><tr><td>'2015-06'</td><td>'2015-07'</td><td>1</td></tr><tr><td>'2015-06'</td><td>'2015-09'</td><td>1</td></tr><tr><td>'2015-06'</td><td>'2015-10'</td><td>1</td></tr><tr><th>...</th><th>...</th><th>...</th></tr><table>"
      ],
      "text/plain": [
       "- Table object, 3 columns, 54 rows.\n",
       "'dateClient' 'dateOrder' 'count'\n",
       "'2015-06' '2015-07' 1\n",
       "'2015-06' '2015-09' 1\n",
       "'2015-06' '2015-10' 1\n",
       ". . ."
      ]
     },
     "execution_count": 6,
     "metadata": {},
     "output_type": "execute_result"
    }
   ],
   "source": [
    "df1 = Table.fromCsv('data/cohort.csv')\n",
    "df1"
   ]
  },
  {
   "cell_type": "markdown",
   "metadata": {},
   "source": [
    "# Create pivot table"
   ]
  },
  {
   "cell_type": "markdown",
   "metadata": {},
   "source": [
    "To create a pivot table you have to specify 3 columns names:\n",
    "\n",
    "- First one will be used for columns;\n",
    "- Second one for rows;\n",
    "- Third one for cells values.\n",
    "\n",
    "Also you may set default value for lacking cells."
   ]
  },
  {
   "cell_type": "code",
   "execution_count": 7,
   "metadata": {
    "collapsed": false
   },
   "outputs": [
    {
     "data": {
      "text/html": [
       "<b>Table</b> object, 18 columns, 6 rows.<br><table><tr><th>'dateClient'</th><th>'2015-07'</th><th>'2015-08'</th><th>'2015-09'</th><th>'2015-10'</th><th>'2015-11'</th><th>...</th></tr><tr><td>'2015-06'</td><td>1</td><td>0</td><td>1</td><td>1</td><td>0</td><td>...</td></tr><tr><td>'2015-07'</td><td>3</td><td>2</td><td>2</td><td>0</td><td>1</td><td>...</td></tr><tr><td>'2015-08'</td><td>0</td><td>4</td><td>7</td><td>3</td><td>0</td><td>...</td></tr><tr><td>'2015-09'</td><td>0</td><td>0</td><td>174</td><td>255</td><td>143</td><td>...</td></tr><tr><td>'2015-10'</td><td>0</td><td>0</td><td>0</td><td>808</td><td>417</td><td>...</td></tr><tr><td>'2015-11'</td><td>0</td><td>0</td><td>0</td><td>0</td><td>159</td><td>...</td></tr><table>"
      ],
      "text/plain": [
       "- Table object, 18 columns, 6 rows.\n",
       "'dateClient' '2015-07' '2015-08' '2015-09' '2015-10' '2015-11' ...\n",
       "'2015-06' 1 0 1 1 0\n",
       "'2015-07' 3 2 2 0 1\n",
       "'2015-08' 0 4 7 3 0\n",
       "'2015-09' 0 0 174 255 143\n",
       "'2015-10' 0 0 0 808 417\n",
       "'2015-11' 0 0 0 0 159"
      ]
     },
     "execution_count": 7,
     "metadata": {},
     "output_type": "execute_result"
    }
   ],
   "source": [
    "df2 = df1.pivot('dateOrder', 'dateClient', 'count', empty=0)\n",
    "df2.toCsv('data/pivot.csv')\n",
    "df2"
   ]
  }
 ],
 "metadata": {
  "kernelspec": {
   "display_name": "Python 3",
   "language": "python",
   "name": "python3"
  },
  "language_info": {
   "codemirror_mode": {
    "name": "ipython",
    "version": 3
   },
   "file_extension": ".py",
   "mimetype": "text/x-python",
   "name": "python",
   "nbconvert_exporter": "python",
   "pygments_lexer": "ipython3",
   "version": "3.6.0"
  }
 },
 "nbformat": 4,
 "nbformat_minor": 2
}
