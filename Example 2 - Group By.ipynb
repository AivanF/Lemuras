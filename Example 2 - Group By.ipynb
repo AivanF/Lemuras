{
 "cells": [
  {
   "cell_type": "code",
   "execution_count": 1,
   "metadata": {
    "collapsed": true
   },
   "outputs": [],
   "source": [
    "from lemuras import Table"
   ]
  },
  {
   "cell_type": "markdown",
   "metadata": {},
   "source": [
    "## Sample data"
   ]
  },
  {
   "cell_type": "code",
   "execution_count": 2,
   "metadata": {
    "collapsed": false,
    "scrolled": true
   },
   "outputs": [
    {
     "data": {
      "text/html": [
       "<b>Table</b> object, 4 columns, 6 rows.<br><table><tr><th>'type'</th><th>'size'</th><th>'weight'</th><th>'tel'</th></tr><tr><td>'A'</td><td>1</td><td>12</td><td>'+79360360193'</td></tr><tr><td>'B'</td><td>4</td><td>12</td><td>84505505151</td></tr><tr><td>'A'</td><td>3</td><td>10</td><td>'+31415926535'</td></tr><tr><td>'B'</td><td>6</td><td>14</td><td>''</td></tr><tr><td>'A'</td><td>4</td><td>10</td><td>'23816326412'</td></tr><tr><td>'A'</td><td>2</td><td>12</td><td>0</td></tr></table>"
      ],
      "text/plain": [
       "- Table object, 4 columns, 6 rows.\n",
       "'type' 'size' 'weight' 'tel'\n",
       "'A' 1 12 '+79360360193'\n",
       "'B' 4 12 84505505151\n",
       "'A' 3 10 '+31415926535'\n",
       "'B' 6 14 ''\n",
       "'A' 4 10 '23816326412'\n",
       "'A' 2 12 0"
      ]
     },
     "execution_count": 2,
     "metadata": {},
     "output_type": "execute_result"
    }
   ],
   "source": [
    "cols = ['type', 'size', 'weight', 'tel']\n",
    "rows = [\n",
    "    ['A', 1, 12, '+79360360193'],\n",
    "    ['B', 4, 12, 84505505151],\n",
    "    ['A', 3, 10, '+31415926535'],\n",
    "    ['B', 6, 14, ''],\n",
    "    ['A', 4, 10, '23816326412'],\n",
    "    ['A', 2, 12, 0],\n",
    "]\n",
    "\n",
    "df1 = Table(cols, rows)\n",
    "df1"
   ]
  },
  {
   "cell_type": "markdown",
   "metadata": {},
   "source": [
    "# Group by single column"
   ]
  },
  {
   "cell_type": "markdown",
   "metadata": {},
   "source": [
    "You can create groups by single columns:"
   ]
  },
  {
   "cell_type": "code",
   "execution_count": 3,
   "metadata": {
    "collapsed": false,
    "scrolled": true
   },
   "outputs": [
    {
     "data": {
      "text/html": [
       "<b>Grouped</b> object, old columns: ['size', 'weight', 'tel'].<br><table><tr><th>'type'</th><th>'counts'</th></tr><tr><td>'A'</td><td>4</td></tr><tr><td>'B'</td><td>2</td></tr></table>"
      ],
      "text/plain": [
       "- Grouped object, keys: ['type'], old columns: ['size', 'weight', 'tel']."
      ]
     },
     "execution_count": 3,
     "metadata": {},
     "output_type": "execute_result"
    }
   ],
   "source": [
    "gr = df1.groupby('type')\n",
    "gr"
   ]
  },
  {
   "cell_type": "markdown",
   "metadata": {},
   "source": [
    "And then aggregate the groups into a new table:"
   ]
  },
  {
   "cell_type": "code",
   "execution_count": 4,
   "metadata": {
    "collapsed": false
   },
   "outputs": [
    {
     "data": {
      "text/html": [
       "<b>Table</b> object, 5 columns, 2 rows.<br><table><tr><th>'type'</th><th>'Count'</th><th>'SizeAvg'</th><th>'WeightMedian'</th><th>'WeightSum'</th></tr><tr><td>'A'</td><td>4</td><td>2.5</td><td>11.0</td><td>44</td></tr><tr><td>'B'</td><td>2</td><td>5.0</td><td>13.0</td><td>26</td></tr></table>"
      ],
      "text/plain": [
       "- Table object, 5 columns, 2 rows.\n",
       "'type' 'Count' 'SizeAvg' 'WeightMedian' 'WeightSum'\n",
       "'A' 4 2.5 11.0 44\n",
       "'B' 2 5.0 13.0 26"
      ]
     },
     "execution_count": 4,
     "metadata": {},
     "output_type": "execute_result"
    }
   ],
   "source": [
    "df2 = gr.agg({\n",
    "    'size': { 'Count': 'count', 'SizeAvg': 'avg' },\n",
    "    'weight': { 'WeightMedian': 'median', 'WeightSum': 'sum' }\n",
    "})\n",
    "\n",
    "df2"
   ]
  },
  {
   "cell_type": "markdown",
   "metadata": {},
   "source": [
    "# Group by multiple columns"
   ]
  },
  {
   "cell_type": "markdown",
   "metadata": {},
   "source": [
    "To create groups by multiple columns put a list with key columns:"
   ]
  },
  {
   "cell_type": "code",
   "execution_count": 5,
   "metadata": {
    "collapsed": false
   },
   "outputs": [
    {
     "data": {
      "text/html": [
       "<b>Table</b> object, 4 columns, 4 rows.<br><table><tr><th>'type'</th><th>'weight'</th><th>'Count'</th><th>'SizeSum'</th></tr><tr><td>'A'</td><td>12</td><td>2</td><td>3</td></tr><tr><td>'A'</td><td>10</td><td>2</td><td>7</td></tr><tr><td>'B'</td><td>12</td><td>1</td><td>4</td></tr><tr><td>'B'</td><td>14</td><td>1</td><td>6</td></tr></table>"
      ],
      "text/plain": [
       "- Table object, 4 columns, 4 rows.\n",
       "'type' 'weight' 'Count' 'SizeSum'\n",
       "'A' 12 2 3\n",
       "'A' 10 2 7\n",
       "'B' 12 1 4\n",
       "'B' 14 1 6"
      ]
     },
     "execution_count": 5,
     "metadata": {},
     "output_type": "execute_result"
    }
   ],
   "source": [
    "df2 = df1.groupby(['type', 'weight']).agg({\n",
    "    'size': {\n",
    "        'Count': 'count',\n",
    "        'SizeSum': 'sum'\n",
    "    }\n",
    "})\n",
    "\n",
    "df2"
   ]
  },
  {
   "cell_type": "markdown",
   "metadata": {},
   "source": [
    "# Group by all"
   ]
  },
  {
   "cell_type": "markdown",
   "metadata": {},
   "source": [
    "You can easily create aggregate all the rows by creating a group by none column. Just do not put any column:"
   ]
  },
  {
   "cell_type": "code",
   "execution_count": 6,
   "metadata": {
    "collapsed": false
   },
   "outputs": [
    {
     "data": {
      "text/html": [
       "<b>Grouped</b> object, old columns: ['type', 'size', 'weight', 'tel'].<br><table><tr><th>'counts'</th></tr><tr><td>6</td></tr></table>"
      ],
      "text/plain": [
       "- Grouped object, keys: [], old columns: ['type', 'size', 'weight', 'tel']."
      ]
     },
     "execution_count": 6,
     "metadata": {},
     "output_type": "execute_result"
    }
   ],
   "source": [
    "gr = df1.groupby()\n",
    "gr"
   ]
  },
  {
   "cell_type": "markdown",
   "metadata": {},
   "source": [
    "Then aggregate it as you wish:"
   ]
  },
  {
   "cell_type": "code",
   "execution_count": 7,
   "metadata": {
    "collapsed": false
   },
   "outputs": [
    {
     "data": {
      "text/html": [
       "<b>Table</b> object, 2 columns, 1 rows.<br><table><tr><th>'Count'</th><th>'Sum'</th></tr><tr><td>6</td><td>20</td></tr></table>"
      ],
      "text/plain": [
       "- Table object, 2 columns, 1 rows.\n",
       "'Count' 'Sum'\n",
       "6 20"
      ]
     },
     "execution_count": 7,
     "metadata": {},
     "output_type": "execute_result"
    }
   ],
   "source": [
    "df2 = gr.agg({ 'size': { 'Count': 'count', 'Sum': 'sum' } })\n",
    "\n",
    "df2"
   ]
  },
  {
   "cell_type": "markdown",
   "metadata": {},
   "source": [
    "# Aggregation with own function or lambda"
   ]
  },
  {
   "cell_type": "markdown",
   "metadata": {},
   "source": [
    "The following aggregation functions are available by strings:\n",
    "\n",
    "- **`'count'`** - elements count, group size.\n",
    "\n",
    "- **`'min'`** - the lowest element.\n",
    "\n",
    "- **`'max'`** - the highest element.\n",
    "\n",
    "- **`'sum'`** - elements sum.\n",
    "\n",
    "- **`'avg'`**, **`'mean'`** - average value.\n",
    "\n",
    "- **`'mode'`** - the most common value.\n",
    "\n",
    "- **`'middle'`**, **`'median'`** - that number where half the numbers are lower and half the numbers are higher.\n"
   ]
  },
  {
   "cell_type": "markdown",
   "metadata": {},
   "source": [
    "But if it is not enough, you can put functions or lambda expressions in aggregation:"
   ]
  },
  {
   "cell_type": "code",
   "execution_count": 8,
   "metadata": {
    "collapsed": false
   },
   "outputs": [
    {
     "data": {
      "text/html": [
       "<b>Table</b> object, 3 columns, 1 rows.<br><table><tr><th>'Count'</th><th>'Something'</th><th>'Have_size_5'</th></tr><tr><td>6</td><td>37</td><td>False</td></tr></table>"
      ],
      "text/plain": [
       "- Table object, 3 columns, 1 rows.\n",
       "'Count' 'Something' 'Have_size_5'\n",
       "6 37 False"
      ]
     },
     "execution_count": 8,
     "metadata": {},
     "output_type": "execute_result"
    }
   ],
   "source": [
    "def check5(lst):\n",
    "    for el in lst:\n",
    "        if el == 5:\n",
    "            return True\n",
    "    return False\n",
    "\n",
    "df2 = df1.groupby().agg({ 'size': {\n",
    "    'Count': 'count',\n",
    "    'Something': lambda x: 2 * sum(x) - 3 * min(x),\n",
    "    'Have_size_5': check5,\n",
    "}})\n",
    "\n",
    "df2"
   ]
  }
 ],
 "metadata": {
  "kernelspec": {
   "display_name": "Python 3",
   "language": "python",
   "name": "python3"
  },
  "language_info": {
   "codemirror_mode": {
    "name": "ipython",
    "version": 3
   },
   "file_extension": ".py",
   "mimetype": "text/x-python",
   "name": "python",
   "nbconvert_exporter": "python",
   "pygments_lexer": "ipython3",
   "version": "3.6.0"
  }
 },
 "nbformat": 4,
 "nbformat_minor": 2
}
