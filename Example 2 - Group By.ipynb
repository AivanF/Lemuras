{
 "cells": [
  {
   "cell_type": "code",
   "execution_count": 1,
   "metadata": {},
   "outputs": [],
   "source": [
    "from lemuras import Table"
   ]
  },
  {
   "cell_type": "markdown",
   "metadata": {},
   "source": [
    "### Sample data"
   ]
  },
  {
   "cell_type": "code",
   "execution_count": 2,
   "metadata": {
    "scrolled": true
   },
   "outputs": [
    {
     "data": {
      "text/html": [
       "<b>Table</b> object, title: <b>Sample</b>, 4 columns, 6 rows.<br>\n",
       "<table>\n",
       "<tr><th>'type'</th><th>'size'</th><th>'weight'</th><th>'tel'</th></tr>\n",
       "<tr><td>'A'</td><td>1</td><td>12</td><td>'+79360360193'</td></tr>\n",
       "<tr><td>'B'</td><td>4</td><td>12</td><td>'84505505151'</td></tr>\n",
       "<tr><td>'A'</td><td>3</td><td>10</td><td>'+31415926535'</td></tr>\n",
       "<tr><td>'B'</td><td>6</td><td>14</td><td>''</td></tr>\n",
       "<tr><td>'A'</td><td>4</td><td>10</td><td>'23816326412'</td></tr>\n",
       "<tr><td>'A'</td><td>2</td><td>12</td><td>'None'</td></tr>\n",
       "</table>"
      ],
      "text/plain": [
       "- Table object, title: \"Sample\", 4 columns, 6 rows.\n",
       "'type' 'size' 'weight' 'tel'\n",
       "'A' 1 12 '+79360360193'\n",
       "'B' 4 12 '84505505151'\n",
       "'A' 3 10 '+31415926535'\n",
       "'B' 6 14 ''\n",
       "'A' 4 10 '23816326412'\n",
       "'A' 2 12 'None'"
      ]
     },
     "execution_count": 2,
     "metadata": {},
     "output_type": "execute_result"
    }
   ],
   "source": [
    "cols = ['type', 'size', 'weight', 'tel']\n",
    "rows = [\n",
    "    ['A', 1, 12, '+79360360193'],\n",
    "    ['B', 4, 12, '84505505151'],\n",
    "    ['A', 3, 10, '+31415926535'],\n",
    "    ['B', 6, 14, ''],\n",
    "    ['A', 4, 10, '23816326412'],\n",
    "    ['A', 2, 12, 'None'],\n",
    "]\n",
    "\n",
    "df1 = Table(cols, rows, 'Sample')\n",
    "df1"
   ]
  },
  {
   "cell_type": "markdown",
   "metadata": {},
   "source": [
    "# Group by single column"
   ]
  },
  {
   "cell_type": "markdown",
   "metadata": {},
   "source": [
    "You can create groups by single columns:"
   ]
  },
  {
   "cell_type": "code",
   "execution_count": 3,
   "metadata": {
    "scrolled": true
   },
   "outputs": [
    {
     "data": {
      "text/html": [
       "<b>Grouped</b> object, keys: ['type'], old columns: ['size', 'weight', 'tel'].<br>\n",
       "<table>\n",
       "<tr><th>'type'</th><th>'counts'</th></tr>\n",
       "<tr><td>'A'</td><td>4</td></tr>\n",
       "<tr><td>'B'</td><td>2</td></tr>\n",
       "</table>"
      ],
      "text/plain": [
       "- Grouped object, keys: ['type'], old columns: ['size', 'weight', 'tel']."
      ]
     },
     "execution_count": 3,
     "metadata": {},
     "output_type": "execute_result"
    }
   ],
   "source": [
    "gr = df1.groupby('type')\n",
    "gr"
   ]
  },
  {
   "cell_type": "markdown",
   "metadata": {},
   "source": [
    "And then aggregate the groups into a new table:"
   ]
  },
  {
   "cell_type": "code",
   "execution_count": 4,
   "metadata": {},
   "outputs": [
    {
     "data": {
      "text/html": [
       "<b>Table</b> object, title: <b>Aggregated</b>, 5 columns, 2 rows.<br>\n",
       "<table>\n",
       "<tr><th>'type'</th><th>'Count'</th><th>'SizeAvg'</th><th>'WeightMedian'</th><th>'WeightSum'</th></tr>\n",
       "<tr><td>'A'</td><td>4</td><td>2.5</td><td>11.0</td><td>44</td></tr>\n",
       "<tr><td>'B'</td><td>2</td><td>5.0</td><td>13.0</td><td>26</td></tr>\n",
       "</table>"
      ],
      "text/plain": [
       "- Table object, title: \"Aggregated\", 5 columns, 2 rows.\n",
       "'type' 'Count' 'SizeAvg' 'WeightMedian' 'WeightSum'\n",
       "'A' 4 2.5 11.0 44\n",
       "'B' 2 5.0 13.0 26"
      ]
     },
     "execution_count": 4,
     "metadata": {},
     "output_type": "execute_result"
    }
   ],
   "source": [
    "df2 = gr.agg({\n",
    "    'size': { 'Count': 'count', 'SizeAvg': 'avg' },\n",
    "    'weight': { 'WeightMedian': 'median', 'WeightSum': 'sum' }\n",
    "})\n",
    "\n",
    "df2"
   ]
  },
  {
   "cell_type": "markdown",
   "metadata": {},
   "source": [
    "# Group by multiple columns"
   ]
  },
  {
   "cell_type": "markdown",
   "metadata": {},
   "source": [
    "To create groups by multiple columns put a list with key columns:"
   ]
  },
  {
   "cell_type": "code",
   "execution_count": 5,
   "metadata": {},
   "outputs": [
    {
     "data": {
      "text/html": [
       "<b>Table</b> object, title: <b>Aggregated</b>, 4 columns, 4 rows.<br>\n",
       "<table>\n",
       "<tr><th>'type'</th><th>'weight'</th><th>'Count'</th><th>'SizeSum'</th></tr>\n",
       "<tr><td>'A'</td><td>12</td><td>2</td><td>3</td></tr>\n",
       "<tr><td>'A'</td><td>10</td><td>2</td><td>7</td></tr>\n",
       "<tr><td>'B'</td><td>12</td><td>1</td><td>4</td></tr>\n",
       "<tr><td>'B'</td><td>14</td><td>1</td><td>6</td></tr>\n",
       "</table>"
      ],
      "text/plain": [
       "- Table object, title: \"Aggregated\", 4 columns, 4 rows.\n",
       "'type' 'weight' 'Count' 'SizeSum'\n",
       "'A' 12 2 3\n",
       "'A' 10 2 7\n",
       "'B' 12 1 4\n",
       "'B' 14 1 6"
      ]
     },
     "execution_count": 5,
     "metadata": {},
     "output_type": "execute_result"
    }
   ],
   "source": [
    "df2 = df1.groupby(['type', 'weight']).agg({\n",
    "    'size': {\n",
    "        'Count': 'count',\n",
    "        'SizeSum': 'sum'\n",
    "    }\n",
    "})\n",
    "\n",
    "df2"
   ]
  },
  {
   "cell_type": "markdown",
   "metadata": {},
   "source": [
    "# Group by all"
   ]
  },
  {
   "cell_type": "markdown",
   "metadata": {},
   "source": [
    "You can easily create aggregate all the rows by creating a group by none column. Just do not put any column:"
   ]
  },
  {
   "cell_type": "code",
   "execution_count": 6,
   "metadata": {},
   "outputs": [
    {
     "data": {
      "text/html": [
       "<b>Grouped</b> object, keys: [], old columns: ['type', 'size', 'weight', 'tel'].<br>\n",
       "<table>\n",
       "<tr><th>'counts'</th></tr>\n",
       "<tr><td>6</td></tr>\n",
       "</table>"
      ],
      "text/plain": [
       "- Grouped object, keys: [], old columns: ['type', 'size', 'weight', 'tel']."
      ]
     },
     "execution_count": 6,
     "metadata": {},
     "output_type": "execute_result"
    }
   ],
   "source": [
    "gr = df1.groupby()\n",
    "gr"
   ]
  },
  {
   "cell_type": "markdown",
   "metadata": {},
   "source": [
    "Then aggregate it as you wish:"
   ]
  },
  {
   "cell_type": "code",
   "execution_count": 7,
   "metadata": {},
   "outputs": [
    {
     "data": {
      "text/html": [
       "<b>Table</b> object, title: <b>Aggregated</b>, 2 columns, 1 rows.<br>\n",
       "<table>\n",
       "<tr><th>'Count'</th><th>'Sum'</th></tr>\n",
       "<tr><td>6</td><td>20</td></tr>\n",
       "</table>"
      ],
      "text/plain": [
       "- Table object, title: \"Aggregated\", 2 columns, 1 rows.\n",
       "'Count' 'Sum'\n",
       "6 20"
      ]
     },
     "execution_count": 7,
     "metadata": {},
     "output_type": "execute_result"
    }
   ],
   "source": [
    "df2 = gr.agg({ 'size': { 'Count': 'count', 'Sum': 'sum' } })\n",
    "\n",
    "df2"
   ]
  },
  {
   "cell_type": "markdown",
   "metadata": {},
   "source": [
    "# Aggregation with own function or lambda"
   ]
  },
  {
   "cell_type": "markdown",
   "metadata": {},
   "source": [
    "The following aggregation functions are available by strings:\n",
    "\n",
    "- **`'count'`** - elements count, group size.\n",
    "\n",
    "- **`'min'`** - the lowest value.\n",
    "\n",
    "- **`'max'`** - the highest value.\n",
    "\n",
    "- **`'sum'`** - elements sum.\n",
    "\n",
    "- **`'avg'`**, **`'mean'`** - average value.\n",
    "\n",
    "- **`'mode'`** - the most common value.\n",
    "\n",
    "- **`'middle'`**, **`'median'`** - a number where half of the numbers are lower and half the numbers are higher.\n",
    "\n",
    "- **`'first'`** - the first value of the list (it's handy when you don't need the specific element, but just an example).\n",
    "\n",
    "- **`'last'`** - the last value of the list.\n"
   ]
  },
  {
   "cell_type": "markdown",
   "metadata": {},
   "source": [
    "But if it is not enough, you can put functions or lambda expressions in aggregation:"
   ]
  },
  {
   "cell_type": "code",
   "execution_count": 8,
   "metadata": {},
   "outputs": [
    {
     "data": {
      "text/html": [
       "<b>Table</b> object, title: <b>Aggregated</b>, 4 columns, 1 rows.<br>\n",
       "<table>\n",
       "<tr><th>'Count'</th><th>'Random'</th><th>'Something'</th><th>'Have_size_5'</th></tr>\n",
       "<tr><td>6</td><td>2</td><td>37</td><td>False</td></tr>\n",
       "</table>"
      ],
      "text/plain": [
       "- Table object, title: \"Aggregated\", 4 columns, 1 rows.\n",
       "'Count' 'Random' 'Something' 'Have_size_5'\n",
       "6 2 37 False"
      ]
     },
     "execution_count": 8,
     "metadata": {},
     "output_type": "execute_result"
    }
   ],
   "source": [
    "def check5(lst):\n",
    "    for el in lst:\n",
    "        if el == 5:\n",
    "            return True\n",
    "    return False\n",
    "\n",
    "df2 = df1.groupby().agg({ 'size': {\n",
    "    'Count': 'count',\n",
    "    'Random': 'last',\n",
    "    'Something': lambda x: 2 * sum(x) - 3 * min(x),\n",
    "    'Have_size_5': check5,\n",
    "}})\n",
    "\n",
    "df2"
   ]
  },
  {
   "cell_type": "markdown",
   "metadata": {},
   "source": [
    "# Default aggregation funtions"
   ]
  },
  {
   "cell_type": "markdown",
   "metadata": {},
   "source": [
    "Sometimes you don't know all the columns of the tables that your code will process, but you anyway need to aggregate them. In this case, you can specify default functions using `default_fun` argument, which can be either a string/function or a dictionary with them. This allows to aggregate all the columns without indicating their names.\n",
    "\n",
    "Here is an example of grouping by one column with aggregating by specific column and with single default function:"
   ]
  },
  {
   "cell_type": "code",
   "execution_count": 9,
   "metadata": {},
   "outputs": [
    {
     "data": {
      "text/html": [
       "<b>Table</b> object, title: <b>Aggregated</b>, 5 columns, 2 rows.<br>\n",
       "<table>\n",
       "<tr><th>'type'</th><th>'size-sum'</th><th>'size'</th><th>'weight'</th><th>'tel'</th></tr>\n",
       "<tr><td>'A'</td><td>10</td><td>1</td><td>12</td><td>'+79360360193'</td></tr>\n",
       "<tr><td>'B'</td><td>10</td><td>4</td><td>12</td><td>'84505505151'</td></tr>\n",
       "</table>"
      ],
      "text/plain": [
       "- Table object, title: \"Aggregated\", 5 columns, 2 rows.\n",
       "'type' 'size-sum' 'size' 'weight' 'tel'\n",
       "'A' 10 1 12 '+79360360193'\n",
       "'B' 10 4 12 '84505505151'"
      ]
     },
     "execution_count": 9,
     "metadata": {},
     "output_type": "execute_result"
    }
   ],
   "source": [
    "df2 = df1.groupby('type').agg({'size': {'size-sum': 'sum'}}, 'first')\n",
    "df2"
   ]
  },
  {
   "cell_type": "markdown",
   "metadata": {},
   "source": [
    "Another example, grouping by all and aggregating with multiple default functions:"
   ]
  },
  {
   "cell_type": "code",
   "execution_count": 10,
   "metadata": {},
   "outputs": [
    {
     "data": {
      "text/html": [
       "<b>Table</b> object, title: <b>Aggregated</b>, 8 columns, 1 rows.<br>\n",
       "<table>\n",
       "<tr><th>'type_min'</th><th>'type_max'</th><th>'size_min'</th><th>'size_max'</th><th>'weight_min'</th><th>'weight_max'</th><th>'tel_min'</th><th>'tel_max'</th></tr>\n",
       "<tr><td>'A'</td><td>'B'</td><td>1</td><td>6</td><td>10</td><td>14</td><td>''</td><td>'None'</td></tr>\n",
       "</table>"
      ],
      "text/plain": [
       "- Table object, title: \"Aggregated\", 8 columns, 1 rows.\n",
       "'type_min' 'type_max' 'size_min' 'size_max' 'weight_min' 'weight_max' 'tel_min' 'tel_max'\n",
       "'A' 'B' 1 6 10 14 '' 'None'"
      ]
     },
     "execution_count": 10,
     "metadata": {},
     "output_type": "execute_result"
    }
   ],
   "source": [
    "df2 = df1.groupby().agg({}, {'min': 'min', 'max': 'max'})\n",
    "df2"
   ]
  },
  {
   "cell_type": "markdown",
   "metadata": {},
   "source": [
    "As you can sea, Lemuras automatically combines dictionary keys with columns names when using default aggregation functions."
   ]
  },
  {
   "cell_type": "markdown",
   "metadata": {},
   "source": [
    "# Groups access"
   ]
  },
  {
   "cell_type": "markdown",
   "metadata": {},
   "source": [
    "In addition, you can extract groups keys and counts:"
   ]
  },
  {
   "cell_type": "code",
   "execution_count": 11,
   "metadata": {},
   "outputs": [
    {
     "data": {
      "text/html": [
       "<b>Table</b> object, title: <b>Groups</b>, 3 columns, 4 rows.<br>\n",
       "<table>\n",
       "<tr><th>'type'</th><th>'weight'</th><th>'counts'</th></tr>\n",
       "<tr><td>'A'</td><td>12</td><td>2</td></tr>\n",
       "<tr><td>'A'</td><td>10</td><td>2</td></tr>\n",
       "<tr><td>'B'</td><td>12</td><td>1</td></tr>\n",
       "<tr><td>'B'</td><td>14</td><td>1</td></tr>\n",
       "</table>"
      ],
      "text/plain": [
       "- Table object, title: \"Groups\", 3 columns, 4 rows.\n",
       "'type' 'weight' 'counts'\n",
       "'A' 12 2\n",
       "'A' 10 2\n",
       "'B' 12 1\n",
       "'B' 14 1"
      ]
     },
     "execution_count": 11,
     "metadata": {},
     "output_type": "execute_result"
    }
   ],
   "source": [
    "gr = df1.groupby(['type', 'weight'])\n",
    "gr.counts()"
   ]
  },
  {
   "cell_type": "markdown",
   "metadata": {},
   "source": [
    "Get a list with all the groups:"
   ]
  },
  {
   "cell_type": "code",
   "execution_count": 12,
   "metadata": {},
   "outputs": [
    {
     "name": "stdout",
     "output_type": "stream",
     "text": [
      "- Table object, title: \"Group type=A weight=12\", 4 columns, 2 rows.\n",
      "'type' 'weight' 'size' 'tel'\n",
      "'A' 12 1 '+79360360193'\n",
      "'A' 12 2 'None'\n",
      "- Table object, title: \"Group type=A weight=10\", 4 columns, 2 rows.\n",
      "'type' 'weight' 'size' 'tel'\n",
      "'A' 10 3 '+31415926535'\n",
      "'A' 10 4 '23816326412'\n",
      "- Table object, title: \"Group type=B weight=12\", 4 columns, 1 rows.\n",
      "'type' 'weight' 'size' 'tel'\n",
      "'B' 12 4 '84505505151'\n",
      "- Table object, title: \"Group type=B weight=14\", 4 columns, 1 rows.\n",
      "'type' 'weight' 'size' 'tel'\n",
      "'B' 14 6 ''\n"
     ]
    }
   ],
   "source": [
    "for el in gr.split():\n",
    "    print(el)"
   ]
  },
  {
   "cell_type": "markdown",
   "metadata": {},
   "source": [
    "Or retrieve a specific single group:"
   ]
  },
  {
   "cell_type": "code",
   "execution_count": 13,
   "metadata": {},
   "outputs": [
    {
     "data": {
      "text/html": [
       "<b>Table</b> object, title: <b>Group type=A weight=12</b>, 4 columns, 2 rows.<br>\n",
       "<table>\n",
       "<tr><th>'type'</th><th>'weight'</th><th>'size'</th><th>'tel'</th></tr>\n",
       "<tr><td>'A'</td><td>12</td><td>1</td><td>'+79360360193'</td></tr>\n",
       "<tr><td>'A'</td><td>12</td><td>2</td><td>'None'</td></tr>\n",
       "</table>"
      ],
      "text/plain": [
       "- Table object, title: \"Group type=A weight=12\", 4 columns, 2 rows.\n",
       "'type' 'weight' 'size' 'tel'\n",
       "'A' 12 1 '+79360360193'\n",
       "'A' 12 2 'None'"
      ]
     },
     "execution_count": 13,
     "metadata": {},
     "output_type": "execute_result"
    }
   ],
   "source": [
    "gr.get_group(['A', 12])"
   ]
  },
  {
   "cell_type": "markdown",
   "metadata": {},
   "source": [
    "Both **`.split()`** and **`.get_group()`** methods take **`should_add_keys`** argument. Its default value is **True**, but if it is set to **False**, then you won't get keys columns:"
   ]
  },
  {
   "cell_type": "code",
   "execution_count": 14,
   "metadata": {},
   "outputs": [
    {
     "data": {
      "text/html": [
       "<b>Table</b> object, title: <b>Group type=A weight=10</b>, 2 columns, 2 rows.<br>\n",
       "<table>\n",
       "<tr><th>'size'</th><th>'tel'</th></tr>\n",
       "<tr><td>3</td><td>'+31415926535'</td></tr>\n",
       "<tr><td>4</td><td>'23816326412'</td></tr>\n",
       "</table>"
      ],
      "text/plain": [
       "- Table object, title: \"Group type=A weight=10\", 2 columns, 2 rows.\n",
       "'size' 'tel'\n",
       "3 '+31415926535'\n",
       "4 '23816326412'"
      ]
     },
     "execution_count": 14,
     "metadata": {},
     "output_type": "execute_result"
    }
   ],
   "source": [
    "gr.get_group(['A', 10], should_add_keys=False)"
   ]
  }
 ],
 "metadata": {
  "kernelspec": {
   "display_name": "Python 3",
   "language": "python",
   "name": "python3"
  },
  "language_info": {
   "codemirror_mode": {
    "name": "ipython",
    "version": 3
   },
   "file_extension": ".py",
   "mimetype": "text/x-python",
   "name": "python",
   "nbconvert_exporter": "python",
   "pygments_lexer": "ipython3",
   "version": "3.6.5"
  }
 },
 "nbformat": 4,
 "nbformat_minor": 2
}
