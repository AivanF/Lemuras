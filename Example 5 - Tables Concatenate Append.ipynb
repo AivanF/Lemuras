{
 "cells": [
  {
   "cell_type": "markdown",
   "metadata": {},
   "source": [
    "## Sample data"
   ]
  },
  {
   "cell_type": "code",
   "execution_count": 1,
   "metadata": {
    "collapsed": false
   },
   "outputs": [
    {
     "data": {
      "text/html": [
       "<b>Table</b> object, title: <b>First</b>, 4 columns, 2 rows.<br><table><tr><th>'type'</th><th>'size'</th><th>'weight'</th><th>'tel'</th></tr><tr><td>'A'</td><td>1</td><td>10</td><td>'+79260360139'</td></tr><tr><td>'B'</td><td>4</td><td>12</td><td>84505505151</td></tr></table>"
      ],
      "text/plain": [
       "- Table object, title: \"First\", 4 columns, 2 rows.\n",
       "'type' 'size' 'weight' 'tel'\n",
       "'A' 1 10 '+79260360139'\n",
       "'B' 4 12 84505505151"
      ]
     },
     "execution_count": 1,
     "metadata": {},
     "output_type": "execute_result"
    }
   ],
   "source": [
    "from lemuras import Table\n",
    "\n",
    "cols = ['type', 'size', 'weight', 'tel']\n",
    "rows = [\n",
    "    ['A', 1, 10, '+79260360139'],\n",
    "    ['B', 4, 12, 84505505151],\n",
    "]\n",
    "df1 = Table(cols, rows, 'First')\n",
    "\n",
    "df1"
   ]
  },
  {
   "cell_type": "code",
   "execution_count": 2,
   "metadata": {
    "collapsed": false
   },
   "outputs": [
    {
     "data": {
      "text/html": [
       "<b>Table</b> object, title: <b>Second</b>, 5 columns, 3 rows.<br><table><tr><th>'type'</th><th>'color'</th><th>'size'</th><th>'weight'</th><th>'tel'</th></tr><tr><td>'A'</td><td>'black'</td><td>2</td><td>10</td><td>'31415926535'</td></tr><tr><td>'B'</td><td>'red'</td><td>6</td><td>14</td><td>''</td></tr><tr><td>'A'</td><td>'silver'</td><td>3</td><td>12</td><td>0</td></tr></table>"
      ],
      "text/plain": [
       "- Table object, title: \"Second\", 5 columns, 3 rows.\n",
       "'type' 'color' 'size' 'weight' 'tel'\n",
       "'A' 'black' 2 10 '31415926535'\n",
       "'B' 'red' 6 14 ''\n",
       "'A' 'silver' 3 12 0"
      ]
     },
     "execution_count": 2,
     "metadata": {},
     "output_type": "execute_result"
    }
   ],
   "source": [
    "cols = ['type', 'color', 'size', 'weight', 'tel']\n",
    "rows = [\n",
    "    ['A', 'black', 2, 10, '31415926535'],\n",
    "    ['B', 'red', 6, 14, ''],\n",
    "    ['A', 'silver', 3, 12, 0],\n",
    "]\n",
    "df2 = Table(cols, rows, 'Second')\n",
    "\n",
    "df2"
   ]
  },
  {
   "cell_type": "markdown",
   "metadata": {},
   "source": [
    "# Concatenate tables"
   ]
  },
  {
   "cell_type": "markdown",
   "metadata": {},
   "source": [
    "Use **`.concat`** class method with a list of Table objects. Columns of the result are the same as in the first given table. If some tables have more columns, they are ignored, the order of columns does not matter."
   ]
  },
  {
   "cell_type": "code",
   "execution_count": 3,
   "metadata": {
    "collapsed": false,
    "scrolled": false
   },
   "outputs": [
    {
     "data": {
      "text/html": [
       "<b>Table</b> object, title: <b>Concat</b>, 4 columns, 5 rows.<br><table><tr><th>'type'</th><th>'size'</th><th>'weight'</th><th>'tel'</th></tr><tr><td>'A'</td><td>1</td><td>10</td><td>'+79260360139'</td></tr><tr><td>'B'</td><td>4</td><td>12</td><td>84505505151</td></tr><tr><td>'A'</td><td>2</td><td>10</td><td>'31415926535'</td></tr><tr><td>'B'</td><td>6</td><td>14</td><td>''</td></tr><tr><td>'A'</td><td>3</td><td>12</td><td>0</td></tr></table>"
      ],
      "text/plain": [
       "- Table object, title: \"Concat\", 4 columns, 5 rows.\n",
       "'type' 'size' 'weight' 'tel'\n",
       "'A' 1 10 '+79260360139'\n",
       "'B' 4 12 84505505151\n",
       "'A' 2 10 '31415926535'\n",
       "'B' 6 14 ''\n",
       "'A' 3 12 0"
      ]
     },
     "execution_count": 3,
     "metadata": {},
     "output_type": "execute_result"
    }
   ],
   "source": [
    "res = Table.concat([df1, df2])\n",
    "res"
   ]
  },
  {
   "cell_type": "markdown",
   "metadata": {},
   "source": [
    "# Append table"
   ]
  },
  {
   "cell_type": "markdown",
   "metadata": {},
   "source": [
    "In addition, you can append one table to another using **`.append`** instance method. The rules are the same."
   ]
  },
  {
   "cell_type": "code",
   "execution_count": 4,
   "metadata": {
    "collapsed": false
   },
   "outputs": [
    {
     "data": {
      "text/html": [
       "<b>Table</b> object, title: <b>First</b>, 4 columns, 5 rows.<br><table><tr><th>'type'</th><th>'size'</th><th>'weight'</th><th>'tel'</th></tr><tr><td>'A'</td><td>1</td><td>10</td><td>'+79260360139'</td></tr><tr><td>'B'</td><td>4</td><td>12</td><td>84505505151</td></tr><tr><td>'A'</td><td>2</td><td>10</td><td>'31415926535'</td></tr><tr><td>'B'</td><td>6</td><td>14</td><td>''</td></tr><tr><td>'A'</td><td>3</td><td>12</td><td>0</td></tr></table>"
      ],
      "text/plain": [
       "- Table object, title: \"First\", 4 columns, 5 rows.\n",
       "'type' 'size' 'weight' 'tel'\n",
       "'A' 1 10 '+79260360139'\n",
       "'B' 4 12 84505505151\n",
       "'A' 2 10 '31415926535'\n",
       "'B' 6 14 ''\n",
       "'A' 3 12 0"
      ]
     },
     "execution_count": 4,
     "metadata": {},
     "output_type": "execute_result"
    }
   ],
   "source": [
    "df1.append(df2)\n",
    "df1"
   ]
  }
 ],
 "metadata": {
  "kernelspec": {
   "display_name": "Python 3",
   "language": "python",
   "name": "python3"
  },
  "language_info": {
   "codemirror_mode": {
    "name": "ipython",
    "version": 3
   },
   "file_extension": ".py",
   "mimetype": "text/x-python",
   "name": "python",
   "nbconvert_exporter": "python",
   "pygments_lexer": "ipython3",
   "version": "3.6.0"
  }
 },
 "nbformat": 4,
 "nbformat_minor": 2
}
